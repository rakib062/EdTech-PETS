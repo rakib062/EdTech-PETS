{
 "cells": [
  {
   "cell_type": "code",
   "execution_count": 2,
   "metadata": {},
   "outputs": [
    {
     "name": "stdout",
     "output_type": "stream",
     "text": [
      "The autoreload extension is already loaded. To reload it, use:\n",
      "  %reload_ext autoreload\n"
     ]
    }
   ],
   "source": [
    "%load_ext autoreload\n",
    "%autoreload 2"
   ]
  },
  {
   "cell_type": "code",
   "execution_count": 45,
   "metadata": {},
   "outputs": [],
   "source": [
    "from semopy import Model\n",
    "import semopy\n",
    "import oulad_helper\n",
    "from IPython.display import Image"
   ]
  },
  {
   "cell_type": "code",
   "execution_count": 4,
   "metadata": {},
   "outputs": [],
   "source": [
    "from tqdm import tqdm\n",
    "import pandas as pd\n",
    "from os.path import join\n",
    "from IPython.display import Image\n",
    "import math\n",
    "import seaborn as sns\n",
    "from scipy import stats\n",
    "import numpy as np\n",
    "import random\n",
    "from collections import defaultdict\n",
    "from sklearn.neighbors import NearestNeighbors\n",
    "import matplotlib.pyplot as plt\n",
    "from sklearn.linear_model import LogisticRegression\n",
    "from sklearn.model_selection import train_test_split\n",
    "import statsmodels.api as sm \n",
    "from sklearn.metrics import f1_score\n",
    "from sklearn import feature_selection\n",
    "from sklearn.decomposition import PCA\n",
    "from sklearn.decomposition import FactorAnalysis\n",
    "import statsmodels\n",
    "from sklearn.metrics import classification_report\n",
    "from sklearn.manifold import TSNE"
   ]
  },
  {
   "cell_type": "code",
   "execution_count": 5,
   "metadata": {},
   "outputs": [],
   "source": [
    "import sys\n",
    "import plot_helper_methods\n",
    "import ml_helper_methods\n",
    "from gradrev import GradientReversal\n",
    "import oulad_helper"
   ]
  },
  {
   "cell_type": "code",
   "execution_count": 6,
   "metadata": {},
   "outputs": [],
   "source": [
    "import torch\n",
    "import torch.nn as nn\n",
    "import torch.nn.init as init\n",
    "import torch.utils.data as data_utils\n",
    "from torch.nn import utils\n",
    "from torch.autograd import Function\n",
    "import torch.nn.functional as F\n",
    "from torch.utils.data import DataLoader\n",
    "\n",
    "import random\n",
    "\n",
    "random.seed(0)\n",
    "torch.manual_seed(0)\n",
    "np.random.seed(0)"
   ]
  },
  {
   "cell_type": "code",
   "execution_count": 7,
   "metadata": {},
   "outputs": [],
   "source": [
    "data_root='root-directory/'\n",
    "device = 'cpu'#torch.device('cuda' if torch.cuda.is_available() else 'cpu')"
   ]
  },
  {
   "cell_type": "code",
   "execution_count": 8,
   "metadata": {},
   "outputs": [
    {
     "data": {
      "text/html": [
       "<div>\n",
       "<style scoped>\n",
       "    .dataframe tbody tr th:only-of-type {\n",
       "        vertical-align: middle;\n",
       "    }\n",
       "\n",
       "    .dataframe tbody tr th {\n",
       "        vertical-align: top;\n",
       "    }\n",
       "\n",
       "    .dataframe thead th {\n",
       "        text-align: right;\n",
       "    }\n",
       "</style>\n",
       "<table border=\"1\" class=\"dataframe\">\n",
       "  <thead>\n",
       "    <tr style=\"text-align: right;\">\n",
       "      <th></th>\n",
       "      <th>session_count_dataplus</th>\n",
       "      <th>session_count_dualpane</th>\n",
       "      <th>session_count_externalquiz</th>\n",
       "      <th>session_count_folder</th>\n",
       "      <th>session_count_forumng</th>\n",
       "      <th>session_count_glossary</th>\n",
       "      <th>session_count_homepage</th>\n",
       "      <th>session_count_htmlactivity</th>\n",
       "      <th>session_count_oucollaborate</th>\n",
       "      <th>session_count_oucontent</th>\n",
       "      <th>...</th>\n",
       "      <th>max_block_len</th>\n",
       "      <th>min_block_len</th>\n",
       "      <th>mean_block_len</th>\n",
       "      <th>var_block_len</th>\n",
       "      <th>gender_num</th>\n",
       "      <th>final_result_num</th>\n",
       "      <th>credits</th>\n",
       "      <th>highest_education</th>\n",
       "      <th>previously_attempted</th>\n",
       "      <th>age_num</th>\n",
       "    </tr>\n",
       "    <tr>\n",
       "      <th>row_id</th>\n",
       "      <th></th>\n",
       "      <th></th>\n",
       "      <th></th>\n",
       "      <th></th>\n",
       "      <th></th>\n",
       "      <th></th>\n",
       "      <th></th>\n",
       "      <th></th>\n",
       "      <th></th>\n",
       "      <th></th>\n",
       "      <th></th>\n",
       "      <th></th>\n",
       "      <th></th>\n",
       "      <th></th>\n",
       "      <th></th>\n",
       "      <th></th>\n",
       "      <th></th>\n",
       "      <th></th>\n",
       "      <th></th>\n",
       "      <th></th>\n",
       "      <th></th>\n",
       "    </tr>\n",
       "  </thead>\n",
       "  <tbody>\n",
       "    <tr>\n",
       "      <th>79461_CCC_2014B</th>\n",
       "      <td>0</td>\n",
       "      <td>0</td>\n",
       "      <td>0</td>\n",
       "      <td>0</td>\n",
       "      <td>34</td>\n",
       "      <td>0</td>\n",
       "      <td>45</td>\n",
       "      <td>0</td>\n",
       "      <td>0</td>\n",
       "      <td>0</td>\n",
       "      <td>...</td>\n",
       "      <td>3</td>\n",
       "      <td>1</td>\n",
       "      <td>1.500000</td>\n",
       "      <td>0.583333</td>\n",
       "      <td>0</td>\n",
       "      <td>0</td>\n",
       "      <td>90</td>\n",
       "      <td>2</td>\n",
       "      <td>False</td>\n",
       "      <td>1</td>\n",
       "    </tr>\n",
       "    <tr>\n",
       "      <th>2356809_BBB_2013J</th>\n",
       "      <td>0</td>\n",
       "      <td>0</td>\n",
       "      <td>0</td>\n",
       "      <td>0</td>\n",
       "      <td>139</td>\n",
       "      <td>2</td>\n",
       "      <td>95</td>\n",
       "      <td>0</td>\n",
       "      <td>3</td>\n",
       "      <td>8</td>\n",
       "      <td>...</td>\n",
       "      <td>11</td>\n",
       "      <td>1</td>\n",
       "      <td>5.333333</td>\n",
       "      <td>14.555556</td>\n",
       "      <td>1</td>\n",
       "      <td>1</td>\n",
       "      <td>60</td>\n",
       "      <td>2</td>\n",
       "      <td>False</td>\n",
       "      <td>0</td>\n",
       "    </tr>\n",
       "  </tbody>\n",
       "</table>\n",
       "<p>2 rows × 72 columns</p>\n",
       "</div>"
      ],
      "text/plain": [
       "                   session_count_dataplus  session_count_dualpane  \\\n",
       "row_id                                                              \n",
       "79461_CCC_2014B                         0                       0   \n",
       "2356809_BBB_2013J                       0                       0   \n",
       "\n",
       "                   session_count_externalquiz  session_count_folder  \\\n",
       "row_id                                                                \n",
       "79461_CCC_2014B                             0                     0   \n",
       "2356809_BBB_2013J                           0                     0   \n",
       "\n",
       "                   session_count_forumng  session_count_glossary  \\\n",
       "row_id                                                             \n",
       "79461_CCC_2014B                       34                       0   \n",
       "2356809_BBB_2013J                    139                       2   \n",
       "\n",
       "                   session_count_homepage  session_count_htmlactivity  \\\n",
       "row_id                                                                  \n",
       "79461_CCC_2014B                        45                           0   \n",
       "2356809_BBB_2013J                      95                           0   \n",
       "\n",
       "                   session_count_oucollaborate  session_count_oucontent  ...  \\\n",
       "row_id                                                                   ...   \n",
       "79461_CCC_2014B                              0                        0  ...   \n",
       "2356809_BBB_2013J                            3                        8  ...   \n",
       "\n",
       "                   max_block_len  min_block_len  mean_block_len  \\\n",
       "row_id                                                            \n",
       "79461_CCC_2014B                3              1        1.500000   \n",
       "2356809_BBB_2013J             11              1        5.333333   \n",
       "\n",
       "                   var_block_len  gender_num  final_result_num  credits  \\\n",
       "row_id                                                                    \n",
       "79461_CCC_2014B         0.583333           0                 0       90   \n",
       "2356809_BBB_2013J      14.555556           1                 1       60   \n",
       "\n",
       "                   highest_education  previously_attempted  age_num  \n",
       "row_id                                                               \n",
       "79461_CCC_2014B                    2                 False        1  \n",
       "2356809_BBB_2013J                  2                 False        0  \n",
       "\n",
       "[2 rows x 72 columns]"
      ]
     },
     "execution_count": 8,
     "metadata": {},
     "output_type": "execute_result"
    }
   ],
   "source": [
    "semester_feature_df = pd.read_csv('root-directory/semester-level-activity.csv')\n",
    "semester_feature_df.set_index('row_id', inplace=True)\n",
    "semester_feature_df.head(2)"
   ]
  },
  {
   "cell_type": "code",
   "execution_count": 9,
   "metadata": {},
   "outputs": [
    {
     "name": "stdout",
     "output_type": "stream",
     "text": [
      "65\n"
     ]
    }
   ],
   "source": [
    "semester_level_preds = list(set(semester_feature_df.columns).difference(set([\n",
    "                    'gender_num', 'final_result_num', 'credits', 'highest_education', \n",
    "                    'previously_attempted', 'blocks' , 'final_result', 'gender', 'age_num'])))\n",
    "print(len(semester_level_preds))"
   ]
  },
  {
   "cell_type": "code",
   "execution_count": 10,
   "metadata": {},
   "outputs": [
    {
     "data": {
      "text/html": [
       "<div>\n",
       "<style scoped>\n",
       "    .dataframe tbody tr th:only-of-type {\n",
       "        vertical-align: middle;\n",
       "    }\n",
       "\n",
       "    .dataframe tbody tr th {\n",
       "        vertical-align: top;\n",
       "    }\n",
       "\n",
       "    .dataframe thead th {\n",
       "        text-align: right;\n",
       "    }\n",
       "</style>\n",
       "<table border=\"1\" class=\"dataframe\">\n",
       "  <thead>\n",
       "    <tr style=\"text-align: right;\">\n",
       "      <th></th>\n",
       "      <th>session_count_dataplus</th>\n",
       "      <th>session_count_dualpane</th>\n",
       "      <th>session_count_externalquiz</th>\n",
       "      <th>session_count_folder</th>\n",
       "      <th>session_count_forumng</th>\n",
       "      <th>session_count_glossary</th>\n",
       "      <th>session_count_homepage</th>\n",
       "      <th>session_count_htmlactivity</th>\n",
       "      <th>session_count_oucollaborate</th>\n",
       "      <th>session_count_oucontent</th>\n",
       "      <th>...</th>\n",
       "      <th>block_count</th>\n",
       "      <th>max_block_len</th>\n",
       "      <th>min_block_len</th>\n",
       "      <th>mean_block_len</th>\n",
       "      <th>var_block_len</th>\n",
       "      <th>gender_num</th>\n",
       "      <th>credits</th>\n",
       "      <th>highest_education</th>\n",
       "      <th>previously_attempted</th>\n",
       "      <th>age_num</th>\n",
       "    </tr>\n",
       "    <tr>\n",
       "      <th>final_result_num</th>\n",
       "      <th></th>\n",
       "      <th></th>\n",
       "      <th></th>\n",
       "      <th></th>\n",
       "      <th></th>\n",
       "      <th></th>\n",
       "      <th></th>\n",
       "      <th></th>\n",
       "      <th></th>\n",
       "      <th></th>\n",
       "      <th></th>\n",
       "      <th></th>\n",
       "      <th></th>\n",
       "      <th></th>\n",
       "      <th></th>\n",
       "      <th></th>\n",
       "      <th></th>\n",
       "      <th></th>\n",
       "      <th></th>\n",
       "      <th></th>\n",
       "      <th></th>\n",
       "    </tr>\n",
       "  </thead>\n",
       "  <tbody>\n",
       "    <tr>\n",
       "      <th>0</th>\n",
       "      <td>0.466389</td>\n",
       "      <td>0.466389</td>\n",
       "      <td>0.466389</td>\n",
       "      <td>0.466389</td>\n",
       "      <td>0.466389</td>\n",
       "      <td>0.466389</td>\n",
       "      <td>0.466389</td>\n",
       "      <td>0.466389</td>\n",
       "      <td>0.466389</td>\n",
       "      <td>0.466389</td>\n",
       "      <td>...</td>\n",
       "      <td>0.466389</td>\n",
       "      <td>0.466389</td>\n",
       "      <td>0.466389</td>\n",
       "      <td>0.466389</td>\n",
       "      <td>0.466389</td>\n",
       "      <td>0.466389</td>\n",
       "      <td>0.466389</td>\n",
       "      <td>0.466389</td>\n",
       "      <td>0.466389</td>\n",
       "      <td>0.466389</td>\n",
       "    </tr>\n",
       "    <tr>\n",
       "      <th>1</th>\n",
       "      <td>0.533611</td>\n",
       "      <td>0.533611</td>\n",
       "      <td>0.533611</td>\n",
       "      <td>0.533611</td>\n",
       "      <td>0.533611</td>\n",
       "      <td>0.533611</td>\n",
       "      <td>0.533611</td>\n",
       "      <td>0.533611</td>\n",
       "      <td>0.533611</td>\n",
       "      <td>0.533611</td>\n",
       "      <td>...</td>\n",
       "      <td>0.533611</td>\n",
       "      <td>0.533611</td>\n",
       "      <td>0.533611</td>\n",
       "      <td>0.533611</td>\n",
       "      <td>0.533611</td>\n",
       "      <td>0.533611</td>\n",
       "      <td>0.533611</td>\n",
       "      <td>0.533611</td>\n",
       "      <td>0.533611</td>\n",
       "      <td>0.533611</td>\n",
       "    </tr>\n",
       "  </tbody>\n",
       "</table>\n",
       "<p>2 rows × 71 columns</p>\n",
       "</div>"
      ],
      "text/plain": [
       "                  session_count_dataplus  session_count_dualpane  \\\n",
       "final_result_num                                                   \n",
       "0                               0.466389                0.466389   \n",
       "1                               0.533611                0.533611   \n",
       "\n",
       "                  session_count_externalquiz  session_count_folder  \\\n",
       "final_result_num                                                     \n",
       "0                                   0.466389              0.466389   \n",
       "1                                   0.533611              0.533611   \n",
       "\n",
       "                  session_count_forumng  session_count_glossary  \\\n",
       "final_result_num                                                  \n",
       "0                              0.466389                0.466389   \n",
       "1                              0.533611                0.533611   \n",
       "\n",
       "                  session_count_homepage  session_count_htmlactivity  \\\n",
       "final_result_num                                                       \n",
       "0                               0.466389                    0.466389   \n",
       "1                               0.533611                    0.533611   \n",
       "\n",
       "                  session_count_oucollaborate  session_count_oucontent  ...  \\\n",
       "final_result_num                                                        ...   \n",
       "0                                    0.466389                 0.466389  ...   \n",
       "1                                    0.533611                 0.533611  ...   \n",
       "\n",
       "                  block_count  max_block_len  min_block_len  mean_block_len  \\\n",
       "final_result_num                                                              \n",
       "0                    0.466389       0.466389       0.466389        0.466389   \n",
       "1                    0.533611       0.533611       0.533611        0.533611   \n",
       "\n",
       "                  var_block_len  gender_num   credits  highest_education  \\\n",
       "final_result_num                                                           \n",
       "0                      0.466389    0.466389  0.466389           0.466389   \n",
       "1                      0.533611    0.533611  0.533611           0.533611   \n",
       "\n",
       "                  previously_attempted   age_num  \n",
       "final_result_num                                  \n",
       "0                             0.466389  0.466389  \n",
       "1                             0.533611  0.533611  \n",
       "\n",
       "[2 rows x 71 columns]"
      ]
     },
     "execution_count": 10,
     "metadata": {},
     "output_type": "execute_result"
    }
   ],
   "source": [
    "semester_feature_df.groupby('final_result_num').count()/len(semester_feature_df)"
   ]
  },
  {
   "cell_type": "code",
   "execution_count": 11,
   "metadata": {},
   "outputs": [
    {
     "data": {
      "text/html": [
       "<div>\n",
       "<style scoped>\n",
       "    .dataframe tbody tr th:only-of-type {\n",
       "        vertical-align: middle;\n",
       "    }\n",
       "\n",
       "    .dataframe tbody tr th {\n",
       "        vertical-align: top;\n",
       "    }\n",
       "\n",
       "    .dataframe thead th {\n",
       "        text-align: right;\n",
       "    }\n",
       "</style>\n",
       "<table border=\"1\" class=\"dataframe\">\n",
       "  <thead>\n",
       "    <tr style=\"text-align: right;\">\n",
       "      <th></th>\n",
       "      <th>session_count_dataplus</th>\n",
       "      <th>session_count_dualpane</th>\n",
       "      <th>session_count_externalquiz</th>\n",
       "      <th>session_count_folder</th>\n",
       "      <th>session_count_forumng</th>\n",
       "      <th>session_count_glossary</th>\n",
       "      <th>session_count_homepage</th>\n",
       "      <th>session_count_htmlactivity</th>\n",
       "      <th>session_count_oucollaborate</th>\n",
       "      <th>session_count_oucontent</th>\n",
       "      <th>...</th>\n",
       "      <th>block_count</th>\n",
       "      <th>max_block_len</th>\n",
       "      <th>min_block_len</th>\n",
       "      <th>mean_block_len</th>\n",
       "      <th>var_block_len</th>\n",
       "      <th>final_result_num</th>\n",
       "      <th>credits</th>\n",
       "      <th>highest_education</th>\n",
       "      <th>previously_attempted</th>\n",
       "      <th>age_num</th>\n",
       "    </tr>\n",
       "    <tr>\n",
       "      <th>gender_num</th>\n",
       "      <th></th>\n",
       "      <th></th>\n",
       "      <th></th>\n",
       "      <th></th>\n",
       "      <th></th>\n",
       "      <th></th>\n",
       "      <th></th>\n",
       "      <th></th>\n",
       "      <th></th>\n",
       "      <th></th>\n",
       "      <th></th>\n",
       "      <th></th>\n",
       "      <th></th>\n",
       "      <th></th>\n",
       "      <th></th>\n",
       "      <th></th>\n",
       "      <th></th>\n",
       "      <th></th>\n",
       "      <th></th>\n",
       "      <th></th>\n",
       "      <th></th>\n",
       "    </tr>\n",
       "  </thead>\n",
       "  <tbody>\n",
       "    <tr>\n",
       "      <th>0</th>\n",
       "      <td>0.529768</td>\n",
       "      <td>0.529768</td>\n",
       "      <td>0.529768</td>\n",
       "      <td>0.529768</td>\n",
       "      <td>0.529768</td>\n",
       "      <td>0.529768</td>\n",
       "      <td>0.529768</td>\n",
       "      <td>0.529768</td>\n",
       "      <td>0.529768</td>\n",
       "      <td>0.529768</td>\n",
       "      <td>...</td>\n",
       "      <td>0.529768</td>\n",
       "      <td>0.529768</td>\n",
       "      <td>0.529768</td>\n",
       "      <td>0.529768</td>\n",
       "      <td>0.529768</td>\n",
       "      <td>0.529768</td>\n",
       "      <td>0.529768</td>\n",
       "      <td>0.529768</td>\n",
       "      <td>0.529768</td>\n",
       "      <td>0.529768</td>\n",
       "    </tr>\n",
       "    <tr>\n",
       "      <th>1</th>\n",
       "      <td>0.470232</td>\n",
       "      <td>0.470232</td>\n",
       "      <td>0.470232</td>\n",
       "      <td>0.470232</td>\n",
       "      <td>0.470232</td>\n",
       "      <td>0.470232</td>\n",
       "      <td>0.470232</td>\n",
       "      <td>0.470232</td>\n",
       "      <td>0.470232</td>\n",
       "      <td>0.470232</td>\n",
       "      <td>...</td>\n",
       "      <td>0.470232</td>\n",
       "      <td>0.470232</td>\n",
       "      <td>0.470232</td>\n",
       "      <td>0.470232</td>\n",
       "      <td>0.470232</td>\n",
       "      <td>0.470232</td>\n",
       "      <td>0.470232</td>\n",
       "      <td>0.470232</td>\n",
       "      <td>0.470232</td>\n",
       "      <td>0.470232</td>\n",
       "    </tr>\n",
       "  </tbody>\n",
       "</table>\n",
       "<p>2 rows × 71 columns</p>\n",
       "</div>"
      ],
      "text/plain": [
       "            session_count_dataplus  session_count_dualpane  \\\n",
       "gender_num                                                   \n",
       "0                         0.529768                0.529768   \n",
       "1                         0.470232                0.470232   \n",
       "\n",
       "            session_count_externalquiz  session_count_folder  \\\n",
       "gender_num                                                     \n",
       "0                             0.529768              0.529768   \n",
       "1                             0.470232              0.470232   \n",
       "\n",
       "            session_count_forumng  session_count_glossary  \\\n",
       "gender_num                                                  \n",
       "0                        0.529768                0.529768   \n",
       "1                        0.470232                0.470232   \n",
       "\n",
       "            session_count_homepage  session_count_htmlactivity  \\\n",
       "gender_num                                                       \n",
       "0                         0.529768                    0.529768   \n",
       "1                         0.470232                    0.470232   \n",
       "\n",
       "            session_count_oucollaborate  session_count_oucontent  ...  \\\n",
       "gender_num                                                        ...   \n",
       "0                              0.529768                 0.529768  ...   \n",
       "1                              0.470232                 0.470232  ...   \n",
       "\n",
       "            block_count  max_block_len  min_block_len  mean_block_len  \\\n",
       "gender_num                                                              \n",
       "0              0.529768       0.529768       0.529768        0.529768   \n",
       "1              0.470232       0.470232       0.470232        0.470232   \n",
       "\n",
       "            var_block_len  final_result_num   credits  highest_education  \\\n",
       "gender_num                                                                 \n",
       "0                0.529768          0.529768  0.529768           0.529768   \n",
       "1                0.470232          0.470232  0.470232           0.470232   \n",
       "\n",
       "            previously_attempted   age_num  \n",
       "gender_num                                  \n",
       "0                       0.529768  0.529768  \n",
       "1                       0.470232  0.470232  \n",
       "\n",
       "[2 rows x 71 columns]"
      ]
     },
     "execution_count": 11,
     "metadata": {},
     "output_type": "execute_result"
    }
   ],
   "source": [
    "semester_feature_df.groupby('gender_num').count()/len(semester_feature_df)"
   ]
  },
  {
   "cell_type": "markdown",
   "metadata": {},
   "source": [
    "### How do **unsupervised** (from factor analysis) high-level features correlate with each other?"
   ]
  },
  {
   "cell_type": "code",
   "execution_count": 42,
   "metadata": {},
   "outputs": [
    {
     "name": "stdout",
     "output_type": "stream",
     "text": [
      "[0.25114703 0.35702109 0.41023842 0.46021077 0.50766085 0.55014921\n",
      " 0.59018474 0.62835114 0.66578944 0.69742985 0.72475027 0.74735004\n",
      " 0.76611063 0.78240239 0.79769898 0.8126166  0.826833   0.84020676\n",
      " 0.85315377 0.86451012]\n"
     ]
    },
    {
     "data": {
      "image/png": "[encoded data removed]",
      "text/plain": [
       "<Figure size 720x288 with 1 Axes>"
      ]
     },
     "metadata": {
      "needs_background": "light"
     },
     "output_type": "display_data"
    }
   ],
   "source": [
    "n_comp=20\n",
    "pca = PCA(n_components=n_comp).fit(semester_feature_df[semester_level_preds].apply(stats.zscore).values)\n",
    "print(np.cumsum(pca.explained_variance_ratio_))\n",
    "plot_helper_methods.plot_scree(n_comp, pca, figsize=(10,4))"
   ]
  },
  {
   "cell_type": "code",
   "execution_count": 40,
   "metadata": {},
   "outputs": [
    {
     "name": "stdout",
     "output_type": "stream",
     "text": [
      "2125465.112203255 0.0\n"
     ]
    },
    {
     "data": {
      "text/plain": [
       "0.8828830804302642"
      ]
     },
     "execution_count": 40,
     "metadata": {},
     "output_type": "execute_result"
    }
   ],
   "source": [
    "from factor_analyzer.factor_analyzer import calculate_kmo,calculate_bartlett_sphericity\n",
    "'''\n",
    "Bartlett’s test of sphericity checks whether or not the observed variables intercorrelate \n",
    "at all using the observed correlation matrix against the identity matrix. \n",
    "If the test found statistically insignificant, you should not employ a factor analysis.\n",
    "'''\n",
    "chi_square_value,p_value=calculate_bartlett_sphericity(semester_feature_df[semester_level_preds])\n",
    "print(chi_square_value, p_value)\n",
    "\n",
    "'''\n",
    "Kaiser-Meyer-Olkin (KMO) Test measures the suitability of data for factor analysis. \n",
    "It determines the adequacy for each observed variable and for the complete model. \n",
    "KMO estimates the proportion of variance among all the observed variable. \n",
    "Lower proportion id more suitable for factor analysis. KMO values range between 0 and 1. \n",
    "Value of KMO less than 0.6 is considered inadequate.\n",
    "'''\n",
    "\n",
    "kmo_all,kmo_model = calculate_kmo(semester_feature_df[semester_level_preds])\n",
    "kmo_model "
   ]
  },
  {
   "cell_type": "code",
   "execution_count": null,
   "metadata": {},
   "outputs": [],
   "source": [
    "from factor_analyzer import FactorAnalyzer\n",
    "\n",
    "def clarify_loadings(df, threshold=.3):\n",
    "    df = df.round(2).T\n",
    "    for c in df.columns:\n",
    "        df[c] = np.where((df[c]<threshold)&(df[c]>-threshold), '', df[c])\n",
    "    return df.round(2)\n",
    "\n",
    "n_factors=10\n",
    "fa = FactorAnalyzer(rotation=None, n_factors=n_factors)\n",
    "fa.fit(semester_feature_df[semester_level_preds].values)\n",
    "loadings = pd.DataFrame(fa.loadings_.T, columns=semester_level_preds)\n",
    "loadings=clarify_loadings(loadings, threshold=.4)#.rename(columns=high_level_concepts_name)\n",
    "loadings"
   ]
  },
  {
   "cell_type": "code",
   "execution_count": null,
   "metadata": {},
   "outputs": [],
   "source": [
    "'''project raw data in the factor space'''\n",
    "factor_names = ['f_{}'.format(f) for f in range(1, n_factors+1)]\n",
    "factor_transformed = fa.transform(semester_feature_df[semester_level_preds])\n",
    "factor_transformed = pd.DataFrame(factor_transformed, columns=factor_names, index=semester_feature_df.index)\n",
    "# tsne_factor = TSNE(n_components=2, verbose=1, perplexity=40, n_iter=300, random_state=0).fit_transform(factor_transformed.values)"
   ]
  },
  {
   "cell_type": "code",
   "execution_count": null,
   "metadata": {},
   "outputs": [],
   "source": [
    "factor_transformed.corr()"
   ]
  },
  {
   "cell_type": "code",
   "execution_count": null,
   "metadata": {},
   "outputs": [],
   "source": [
    "factor_transformed['gender_num']=semester_feature_df.gender_num\n",
    "factor_transformed['age_num']=semester_feature_df.age_num\n",
    "factor_transformed['studied_credits']=semester_feature_df.credits\n",
    "factor_transformed['previously_attempted']=semester_feature_df.previously_attempted\n",
    "factor_transformed['highest_education_num']=semester_feature_df.highest_education\n",
    "factor_transformed['final_result_num']=semester_feature_df.final_result_num\n",
    "factor_transformed.to_csv(join(data_root,'semester-activity-factor-transformed.csv'))\n",
    "\n",
    "factor_transformed['tsne-1d'] = tsne_factor[:,0]\n",
    "factor_transformed['tsne-2d'] = tsne_factor[:,1]\n",
    "\n",
    "plt.figure(figsize=(12,8))\n",
    "sns.scatterplot(x=\"tsne-1d\", y=\"tsne-2d\",hue=\"final_result_num\", data=factor_transformed,legend=\"full\")"
   ]
  },
  {
   "cell_type": "code",
   "execution_count": null,
   "metadata": {},
   "outputs": [],
   "source": [
    "plot_helper_methods.plot_corr_matrix(factor_transformed[factor_names+['gender_num','final_result_num']].corr())"
   ]
  },
  {
   "cell_type": "markdown",
   "metadata": {},
   "source": [
    "##### How the factors contribute in predicting outcome"
   ]
  },
  {
   "cell_type": "code",
   "execution_count": null,
   "metadata": {},
   "outputs": [],
   "source": [
    "outcome_logit = ml_helper_methods.test_logit(data = factor_transformed, predictors = factor_names, label = 'final_result_num')\n",
    "ml_helper_methods.get_OR(outcome_logit)"
   ]
  },
  {
   "cell_type": "code",
   "execution_count": null,
   "metadata": {},
   "outputs": [],
   "source": [
    "factor_transformed.groupby('final_result_num').final_result_num.count()/len(factor_transformed)"
   ]
  },
  {
   "cell_type": "code",
   "execution_count": null,
   "metadata": {},
   "outputs": [],
   "source": [
    "ml_helper_methods.test_logit_model_accuracy(factor_transformed, predictors = factor_names, label = 'final_result_num')"
   ]
  },
  {
   "cell_type": "code",
   "execution_count": null,
   "metadata": {},
   "outputs": [],
   "source": [
    "factor_transformed.groupby('gender_num').final_result_num.count()/len(factor_transformed)"
   ]
  },
  {
   "cell_type": "code",
   "execution_count": null,
   "metadata": {},
   "outputs": [],
   "source": [
    "gender_logit = ml_helper_methods.test_logit(data = factor_transformed, \n",
    "                                            predictors = factor_names, label = 'gender_num')\n",
    "ml_helper_methods.get_OR(gender_logit)"
   ]
  },
  {
   "cell_type": "code",
   "execution_count": null,
   "metadata": {},
   "outputs": [],
   "source": [
    "ml_helper_methods.test_logit_model_accuracy(factor_transformed, predictors = factor_names, \n",
    "                                            label = 'gender_num')"
   ]
  },
  {
   "cell_type": "code",
   "execution_count": null,
   "metadata": {},
   "outputs": [],
   "source": [
    "'''remove factors one by one from gender predictors'''\n",
    "for f in factor_names:\n",
    "    print(f)\n",
    "    ml_helper_methods.test_logit_model_accuracy(factor_transformed, \n",
    "                                            predictors = set(factor_names).difference([f]),\n",
    "                                            label = 'gender_num')"
   ]
  },
  {
   "cell_type": "markdown",
   "metadata": {},
   "source": [
    "### Extract intermediate features in supervised manner"
   ]
  },
  {
   "cell_type": "code",
   "execution_count": 12,
   "metadata": {},
   "outputs": [],
   "source": [
    "n_epochs=10"
   ]
  },
  {
   "cell_type": "code",
   "execution_count": 13,
   "metadata": {},
   "outputs": [
    {
     "name": "stderr",
     "output_type": "stream",
     "text": [
      "  0%|          | 8/2525 [00:00<00:33, 76.26it/s]"
     ]
    },
    {
     "name": "stdout",
     "output_type": "stream",
     "text": [
      "lt_dim: 10\n",
      "training model with l1=0.1, l2=0.1, ortho=0\n"
     ]
    },
    {
     "name": "stderr",
     "output_type": "stream",
     "text": [
      "  0%|          | 12/2525 [00:00<00:22, 112.67it/s]  "
     ]
    },
    {
     "name": "stdout",
     "output_type": "stream",
     "text": [
      "EPOCH 1: domain loss=0.0693, class accuracy= 0.7549, domain accuracy=0.5287, l1 loss:303.551\n"
     ]
    },
    {
     "name": "stderr",
     "output_type": "stream",
     "text": [
      "  0%|          | 11/2525 [00:00<00:23, 107.90it/s]  "
     ]
    },
    {
     "name": "stdout",
     "output_type": "stream",
     "text": [
      "EPOCH 2: domain loss=0.0691, class accuracy= 0.8138, domain accuracy=0.5298, l1 loss:152.593\n"
     ]
    },
    {
     "name": "stderr",
     "output_type": "stream",
     "text": [
      "  0%|          | 11/2525 [00:00<00:23, 108.79it/s]  "
     ]
    },
    {
     "name": "stdout",
     "output_type": "stream",
     "text": [
      "EPOCH 3: domain loss=0.0692, class accuracy= 0.8269, domain accuracy=0.5298, l1 loss:177.201\n"
     ]
    },
    {
     "name": "stderr",
     "output_type": "stream",
     "text": [
      "  0%|          | 11/2525 [00:00<00:23, 108.87it/s]  "
     ]
    },
    {
     "name": "stdout",
     "output_type": "stream",
     "text": [
      "EPOCH 4: domain loss=0.0692, class accuracy= 0.8318, domain accuracy=0.5298, l1 loss:185.576\n"
     ]
    },
    {
     "name": "stderr",
     "output_type": "stream",
     "text": [
      "  0%|          | 11/2525 [00:00<00:23, 108.86it/s]  "
     ]
    },
    {
     "name": "stdout",
     "output_type": "stream",
     "text": [
      "EPOCH 5: domain loss=0.0692, class accuracy= 0.8349, domain accuracy=0.5298, l1 loss:190.127\n"
     ]
    },
    {
     "name": "stderr",
     "output_type": "stream",
     "text": [
      "  0%|          | 11/2525 [00:00<00:23, 108.32it/s]  "
     ]
    },
    {
     "name": "stdout",
     "output_type": "stream",
     "text": [
      "EPOCH 6: domain loss=0.0692, class accuracy= 0.8340, domain accuracy=0.5298, l1 loss:192.353\n"
     ]
    },
    {
     "name": "stderr",
     "output_type": "stream",
     "text": [
      "  0%|          | 11/2525 [00:00<00:23, 108.27it/s]  "
     ]
    },
    {
     "name": "stdout",
     "output_type": "stream",
     "text": [
      "EPOCH 7: domain loss=0.0692, class accuracy= 0.8337, domain accuracy=0.5298, l1 loss:192.625\n"
     ]
    },
    {
     "name": "stderr",
     "output_type": "stream",
     "text": [
      "  0%|          | 11/2525 [00:00<00:23, 107.55it/s]  "
     ]
    },
    {
     "name": "stdout",
     "output_type": "stream",
     "text": [
      "EPOCH 8: domain loss=0.0692, class accuracy= 0.8334, domain accuracy=0.5298, l1 loss:193.728\n"
     ]
    },
    {
     "name": "stderr",
     "output_type": "stream",
     "text": [
      "  0%|          | 11/2525 [00:00<00:23, 108.28it/s]  "
     ]
    },
    {
     "name": "stdout",
     "output_type": "stream",
     "text": [
      "EPOCH 9: domain loss=0.0692, class accuracy= 0.8336, domain accuracy=0.5298, l1 loss:194.820\n"
     ]
    },
    {
     "name": "stderr",
     "output_type": "stream",
     "text": [
      "                                                    \r"
     ]
    },
    {
     "name": "stdout",
     "output_type": "stream",
     "text": [
      "EPOCH 10: domain loss=0.0692, class accuracy= 0.8334, domain accuracy=0.5298, l1 loss:194.751\n"
     ]
    },
    {
     "data": {
      "image/png": "[encoded data removed]",
      "text/plain": [
       "<Figure size 1440x576 with 10 Axes>"
      ]
     },
     "metadata": {
      "needs_background": "light"
     },
     "output_type": "display_data"
    },
    {
     "data": {
      "image/png": "[encoded data removed]",
      "text/plain": [
       "<Figure size 1440x432 with 1 Axes>"
      ]
     },
     "metadata": {
      "needs_background": "light"
     },
     "output_type": "display_data"
    },
    {
     "data": {
      "image/png": "[encoded data removed]",
      "text/plain": [
       "<Figure size 864x288 with 2 Axes>"
      ]
     },
     "metadata": {
      "needs_background": "light"
     },
     "output_type": "display_data"
    }
   ],
   "source": [
    "l1_l2_model = oulad_helper.train_model(l1_weight = .1, l2_weight = 0.1, ortho_weight=0, lasso=True,\n",
    "                                       n_epochs=10, df=semester_feature_df, predictors=semester_level_preds, \n",
    "                                       outcome='final_result_num', sensitive_attr='gender_num',\n",
    "                                       show_plots=True)"
   ]
  },
  {
   "cell_type": "code",
   "execution_count": null,
   "metadata": {},
   "outputs": [],
   "source": [
    "'''get linear transformation of the features'''\n",
    "transformd_feats = l1_l2_model.lt(torch.Tensor(semester_feature_df[semester_level_preds].values))\n",
    "transformed_feat_df =  pd.DataFrame(transformd_feats.detach().numpy(), \n",
    "                                    columns=trans_columns,\n",
    "                                    index =semester_feature_df.index)\n",
    "transformed_feat_df['gender_num']=semester_feature_df.gender_num\n",
    "transformed_feat_df['final_result_num']=semester_feature_df.final_result_num\n",
    "# transformed_feat_df.head(1)\n",
    "plot_helper_methods.plot_corr_matrix(transformed_feat_df[trans_columns+['gender_num','final_result_num']].corr())"
   ]
  },
  {
   "cell_type": "code",
   "execution_count": 15,
   "metadata": {},
   "outputs": [
    {
     "name": "stdout",
     "output_type": "stream",
     "text": [
      "non zero predictors: 19\n"
     ]
    },
    {
     "data": {
      "text/plain": [
       "['sum_click_resource',\n",
       " 'session_count_subpage',\n",
       " 'perc_interacted_homepage',\n",
       " 'session_count_quiz',\n",
       " 'sum_click_homepage',\n",
       " 'session_count_forumng',\n",
       " 'sum_click_forumng',\n",
       " 'perc_interacted_glossary',\n",
       " 'perc_interacted_externalquiz',\n",
       " 'sum_click_oucontent',\n",
       " 'sum_click_subpage',\n",
       " 'session_count_homepage',\n",
       " 'perc_interacted_subpage',\n",
       " 'perc_interacted_quiz',\n",
       " 'perc_interacted_oucontent',\n",
       " 'sum_click_glossary',\n",
       " 'perc_interacted_oucollaborate',\n",
       " 'perc_interacted_resource',\n",
       " 'session_count_oucontent']"
      ]
     },
     "execution_count": 15,
     "metadata": {},
     "output_type": "execute_result"
    }
   ],
   "source": [
    "'''find featuers that has mostly zero weights and remove them'''\n",
    "thresh = 1e-3\n",
    "clamped_params = list(l1_l2_model.lt.parameters())[0].abs().clamp(min=thresh) - thresh\n",
    "clamped_params = clamped_params.detach().numpy().T\n",
    "\n",
    "non_zero_preds =[]\n",
    "for p in range(len(clamped_params)):\n",
    "    if np.count_nonzero(clamped_params[p])>0:\n",
    "        non_zero_preds.append(semester_level_preds[p])\n",
    "print('non zero predictors:',len(non_zero_preds))#, non_zero_preds\n",
    "non_zero_preds"
   ]
  },
  {
   "cell_type": "code",
   "execution_count": 16,
   "metadata": {},
   "outputs": [
    {
     "name": "stdout",
     "output_type": "stream",
     "text": [
      "        Accuracy:85.36\n",
      "        Precision:[0.84801073 0.85810811]\n",
      "        Recall:[0.82621951 0.87649837]\n",
      "        F1:[0.83697331 0.86720575]\n"
     ]
    },
    {
     "data": {
      "text/plain": [
       "LogisticRegression(C=1, max_iter=50000, penalty='none', random_state=0)"
      ]
     },
     "execution_count": 16,
     "metadata": {},
     "output_type": "execute_result"
    }
   ],
   "source": [
    "'''Train a model only with the non-zero predictors'''\n",
    "ml_helper_methods.test_logit_model_accuracy(\n",
    "    semester_feature_df, predictors = non_zero_preds, label = 'final_result_num', max_iter=50000)"
   ]
  },
  {
   "cell_type": "code",
   "execution_count": 17,
   "metadata": {},
   "outputs": [
    {
     "name": "stdout",
     "output_type": "stream",
     "text": [
      "        Accuracy:87.42\n",
      "        Precision:[0.87393066 0.87446959]\n",
      "        Recall:[0.84538328 0.89829277]\n",
      "        F1:[0.85941997 0.88622111]\n"
     ]
    },
    {
     "data": {
      "text/plain": [
       "LogisticRegression(C=1, max_iter=50000, penalty='none', random_state=0)"
      ]
     },
     "execution_count": 17,
     "metadata": {},
     "output_type": "execute_result"
    }
   ],
   "source": [
    "'''How well the outcome can be predicted using all features'''\n",
    "ml_helper_methods.test_logit_model_accuracy(\n",
    "    semester_feature_df, predictors = semester_level_preds, label = 'final_result_num', max_iter=50000)"
   ]
  },
  {
   "cell_type": "code",
   "execution_count": 18,
   "metadata": {},
   "outputs": [
    {
     "name": "stdout",
     "output_type": "stream",
     "text": [
      "        Accuracy:68.73\n",
      "        Precision:[0.66656308 0.72364828]\n",
      "        Recall:[0.80912863 0.55254379]\n",
      "        F1:[0.73095928 0.62662568]\n"
     ]
    },
    {
     "data": {
      "text/plain": [
       "LogisticRegression(C=1, max_iter=10000, penalty='none', random_state=0)"
      ]
     },
     "execution_count": 18,
     "metadata": {},
     "output_type": "execute_result"
    }
   ],
   "source": [
    "ml_helper_methods.test_logit_model_accuracy(\n",
    "    semester_feature_df, predictors = non_zero_preds, label = 'gender_num', max_iter=10000)"
   ]
  },
  {
   "cell_type": "code",
   "execution_count": 19,
   "metadata": {},
   "outputs": [
    {
     "name": "stdout",
     "output_type": "stream",
     "text": [
      "        Accuracy:72.25\n",
      "        Precision:[0.69543465 0.76931388]\n",
      "        Recall:[0.83892871 0.59382819]\n",
      "        F1:[0.76047188 0.67027536]\n"
     ]
    },
    {
     "data": {
      "text/plain": [
       "LogisticRegression(C=1, max_iter=10000, penalty='none', random_state=0)"
      ]
     },
     "execution_count": 19,
     "metadata": {},
     "output_type": "execute_result"
    }
   ],
   "source": [
    "'''How well the gender can be predicted using all features'''\n",
    "ml_helper_methods.test_logit_model_accuracy(\n",
    "    semester_feature_df, predictors = semester_level_preds, label = 'gender_num', max_iter=10000)"
   ]
  },
  {
   "cell_type": "markdown",
   "metadata": {},
   "source": [
    "##### Repeat training with only the non-zero predictors"
   ]
  },
  {
   "cell_type": "code",
   "execution_count": 20,
   "metadata": {},
   "outputs": [
    {
     "name": "stderr",
     "output_type": "stream",
     "text": [
      "  1%|          | 22/2525 [00:00<00:11, 211.83it/s]"
     ]
    },
    {
     "name": "stdout",
     "output_type": "stream",
     "text": [
      "lt_dim: 10\n",
      "training model with l1=1, l2=0.1, ortho=0\n"
     ]
    },
    {
     "name": "stderr",
     "output_type": "stream",
     "text": [
      "  0%|          | 12/2525 [00:00<00:22, 112.03it/s]  "
     ]
    },
    {
     "name": "stdout",
     "output_type": "stream",
     "text": [
      "EPOCH 1: domain loss=0.0699, class accuracy= 0.8173, domain accuracy=0.5280, l1 loss:124.171\n"
     ]
    },
    {
     "name": "stderr",
     "output_type": "stream",
     "text": [
      "  0%|          | 11/2525 [00:00<00:23, 108.66it/s]  "
     ]
    },
    {
     "name": "stdout",
     "output_type": "stream",
     "text": [
      "EPOCH 2: domain loss=0.0690, class accuracy= 0.8454, domain accuracy=0.5297, l1 loss:108.123\n"
     ]
    },
    {
     "name": "stderr",
     "output_type": "stream",
     "text": [
      "  0%|          | 11/2525 [00:00<00:23, 109.15it/s]  "
     ]
    },
    {
     "name": "stdout",
     "output_type": "stream",
     "text": [
      "EPOCH 3: domain loss=0.0691, class accuracy= 0.8462, domain accuracy=0.5298, l1 loss:103.795\n"
     ]
    },
    {
     "name": "stderr",
     "output_type": "stream",
     "text": [
      "  0%|          | 11/2525 [00:00<00:22, 109.62it/s]  "
     ]
    },
    {
     "name": "stdout",
     "output_type": "stream",
     "text": [
      "EPOCH 4: domain loss=0.0692, class accuracy= 0.8485, domain accuracy=0.5298, l1 loss:98.813\n"
     ]
    },
    {
     "name": "stderr",
     "output_type": "stream",
     "text": [
      "  0%|          | 11/2525 [00:00<00:23, 105.72it/s]  "
     ]
    },
    {
     "name": "stdout",
     "output_type": "stream",
     "text": [
      "EPOCH 5: domain loss=0.0692, class accuracy= 0.8499, domain accuracy=0.5298, l1 loss:96.548\n"
     ]
    },
    {
     "name": "stderr",
     "output_type": "stream",
     "text": [
      "  0%|          | 11/2525 [00:00<00:23, 107.19it/s]  "
     ]
    },
    {
     "name": "stdout",
     "output_type": "stream",
     "text": [
      "EPOCH 6: domain loss=0.0692, class accuracy= 0.8485, domain accuracy=0.5298, l1 loss:95.864\n"
     ]
    },
    {
     "name": "stderr",
     "output_type": "stream",
     "text": [
      "  0%|          | 11/2525 [00:00<00:23, 107.37it/s]  "
     ]
    },
    {
     "name": "stdout",
     "output_type": "stream",
     "text": [
      "EPOCH 7: domain loss=0.0692, class accuracy= 0.8497, domain accuracy=0.5298, l1 loss:93.329\n"
     ]
    },
    {
     "name": "stderr",
     "output_type": "stream",
     "text": [
      "  0%|          | 11/2525 [00:00<00:23, 107.18it/s]  "
     ]
    },
    {
     "name": "stdout",
     "output_type": "stream",
     "text": [
      "EPOCH 8: domain loss=0.0692, class accuracy= 0.8486, domain accuracy=0.5298, l1 loss:88.562\n"
     ]
    },
    {
     "name": "stderr",
     "output_type": "stream",
     "text": [
      "  0%|          | 11/2525 [00:00<00:23, 107.58it/s]  "
     ]
    },
    {
     "name": "stdout",
     "output_type": "stream",
     "text": [
      "EPOCH 9: domain loss=0.0692, class accuracy= 0.8489, domain accuracy=0.5298, l1 loss:82.978\n"
     ]
    },
    {
     "name": "stderr",
     "output_type": "stream",
     "text": [
      "  0%|          | 11/2525 [00:00<00:23, 107.46it/s]  "
     ]
    },
    {
     "name": "stdout",
     "output_type": "stream",
     "text": [
      "EPOCH 10: domain loss=0.0692, class accuracy= 0.8478, domain accuracy=0.5298, l1 loss:74.283\n"
     ]
    },
    {
     "name": "stderr",
     "output_type": "stream",
     "text": [
      "  0%|          | 11/2525 [00:00<00:24, 104.59it/s]  "
     ]
    },
    {
     "name": "stdout",
     "output_type": "stream",
     "text": [
      "EPOCH 11: domain loss=0.0692, class accuracy= 0.8492, domain accuracy=0.5298, l1 loss:57.535\n"
     ]
    },
    {
     "name": "stderr",
     "output_type": "stream",
     "text": [
      "  0%|          | 11/2525 [00:00<00:23, 107.79it/s]  "
     ]
    },
    {
     "name": "stdout",
     "output_type": "stream",
     "text": [
      "EPOCH 12: domain loss=0.0692, class accuracy= 0.8492, domain accuracy=0.5298, l1 loss:39.462\n"
     ]
    },
    {
     "name": "stderr",
     "output_type": "stream",
     "text": [
      "  0%|          | 11/2525 [00:00<00:23, 107.89it/s]  "
     ]
    },
    {
     "name": "stdout",
     "output_type": "stream",
     "text": [
      "EPOCH 13: domain loss=0.0692, class accuracy= 0.8496, domain accuracy=0.5298, l1 loss:34.857\n"
     ]
    },
    {
     "name": "stderr",
     "output_type": "stream",
     "text": [
      "  0%|          | 11/2525 [00:00<00:23, 106.95it/s]  "
     ]
    },
    {
     "name": "stdout",
     "output_type": "stream",
     "text": [
      "EPOCH 14: domain loss=0.0692, class accuracy= 0.8499, domain accuracy=0.5298, l1 loss:34.897\n"
     ]
    },
    {
     "name": "stderr",
     "output_type": "stream",
     "text": [
      "  0%|          | 11/2525 [00:00<00:23, 107.80it/s]  "
     ]
    },
    {
     "name": "stdout",
     "output_type": "stream",
     "text": [
      "EPOCH 15: domain loss=0.0692, class accuracy= 0.8491, domain accuracy=0.5298, l1 loss:34.725\n"
     ]
    },
    {
     "name": "stderr",
     "output_type": "stream",
     "text": [
      "  0%|          | 11/2525 [00:00<00:23, 106.58it/s]  "
     ]
    },
    {
     "name": "stdout",
     "output_type": "stream",
     "text": [
      "EPOCH 16: domain loss=0.0692, class accuracy= 0.8480, domain accuracy=0.5298, l1 loss:34.794\n"
     ]
    },
    {
     "name": "stderr",
     "output_type": "stream",
     "text": [
      "  0%|          | 11/2525 [00:00<00:23, 107.27it/s]  "
     ]
    },
    {
     "name": "stdout",
     "output_type": "stream",
     "text": [
      "EPOCH 17: domain loss=0.0692, class accuracy= 0.8495, domain accuracy=0.5298, l1 loss:34.484\n"
     ]
    },
    {
     "name": "stderr",
     "output_type": "stream",
     "text": [
      "  0%|          | 11/2525 [00:00<00:23, 106.30it/s]  "
     ]
    },
    {
     "name": "stdout",
     "output_type": "stream",
     "text": [
      "EPOCH 18: domain loss=0.0692, class accuracy= 0.8485, domain accuracy=0.5298, l1 loss:33.867\n"
     ]
    },
    {
     "name": "stderr",
     "output_type": "stream",
     "text": [
      "  0%|          | 11/2525 [00:00<00:23, 107.16it/s]  "
     ]
    },
    {
     "name": "stdout",
     "output_type": "stream",
     "text": [
      "EPOCH 19: domain loss=0.0692, class accuracy= 0.8493, domain accuracy=0.5298, l1 loss:35.088\n"
     ]
    },
    {
     "name": "stderr",
     "output_type": "stream",
     "text": [
      "                                                    \r"
     ]
    },
    {
     "name": "stdout",
     "output_type": "stream",
     "text": [
      "EPOCH 20: domain loss=0.0692, class accuracy= 0.8490, domain accuracy=0.5298, l1 loss:34.257\n"
     ]
    },
    {
     "data": {
      "image/png": "[encoded data removed]",
      "text/plain": [
       "<Figure size 1440x576 with 10 Axes>"
      ]
     },
     "metadata": {
      "needs_background": "light"
     },
     "output_type": "display_data"
    },
    {
     "data": {
      "image/png": "[encoded data removed]",
      "text/plain": [
       "<Figure size 1440x432 with 1 Axes>"
      ]
     },
     "metadata": {
      "needs_background": "light"
     },
     "output_type": "display_data"
    },
    {
     "data": {
      "image/png": "[encoded data removed]",
      "text/plain": [
       "<Figure size 864x288 with 2 Axes>"
      ]
     },
     "metadata": {
      "needs_background": "light"
     },
     "output_type": "display_data"
    }
   ],
   "source": [
    "'''train with constrain {0,1}'''\n",
    "reduced_model = oulad_helper.train_model(lasso=False, l1_weight = 1, l2_weight = 0.1,  n_epochs=15,\n",
    "                        df=semester_feature_df, predictors=non_zero_preds, \n",
    "                        outcome='final_result_num', sensitive_attr='gender_num', show_plots=True)"
   ]
  },
  {
   "cell_type": "code",
   "execution_count": 21,
   "metadata": {},
   "outputs": [
    {
     "data": {
      "text/plain": [
       "(-1.2, 1.2)"
      ]
     },
     "execution_count": 21,
     "metadata": {},
     "output_type": "execute_result"
    },
    {
     "data": {
      "image/png": "[encoded data removed]",
      "text/plain": [
       "<Figure size 864x432 with 1 Axes>"
      ]
     },
     "metadata": {
      "needs_background": "light"
     },
     "output_type": "display_data"
    }
   ],
   "source": [
    "params = list(reduced_model.lt.parameters())[0].detach().numpy()\n",
    "plt.figure(figsize=(12,6))\n",
    "sns.stripplot(data=params.T, orient='v', palette=\"Set2\", size=6, edgecolor='black')\n",
    "plt.ylim([-1.2,1.2])"
   ]
  },
  {
   "cell_type": "code",
   "execution_count": 22,
   "metadata": {},
   "outputs": [
    {
     "data": {
      "text/plain": [
       "(-1.2, 1.2)"
      ]
     },
     "execution_count": 22,
     "metadata": {},
     "output_type": "execute_result"
    },
    {
     "data": {
      "image/png": "[encoded data removed]",
      "text/plain": [
       "<Figure size 864x432 with 1 Axes>"
      ]
     },
     "metadata": {
      "needs_background": "light"
     },
     "output_type": "display_data"
    }
   ],
   "source": [
    "discrete_params = np.zeros(params.shape)\n",
    "for i in range(params.shape[0]):\n",
    "    for j in range(params.shape[1]):\n",
    "        if params[i][j]>.5:\n",
    "            discrete_params[i][j]= 1\n",
    "        elif params[i][j]<-.5:\n",
    "            discrete_params[i][j]= -1\n",
    "            \n",
    "plt.figure(figsize=(12,6))\n",
    "sns.stripplot(data=discrete_params.T, orient='v', palette=\"Set2\", size=6)\n",
    "plt.ylim([-1.2,1.2])"
   ]
  },
  {
   "cell_type": "code",
   "execution_count": 23,
   "metadata": {},
   "outputs": [
    {
     "name": "stdout",
     "output_type": "stream",
     "text": [
      "node: 1\n",
      "node: 2\n",
      "node: 3\n",
      "node: 4\n",
      "node: 5\n",
      "node: 6\n",
      "node: 7\n",
      "node: 8\n",
      "node: 9\n",
      "\t+ session_count_homepage\n",
      "\t+ perc_interacted_subpage\n",
      "\t+ perc_interacted_quiz\n",
      "node: 10\n",
      "\n",
      "3\n",
      "[('session_count_homepage', 1), ('perc_interacted_subpage', 1), ('perc_interacted_quiz', 1)]\n"
     ]
    }
   ],
   "source": [
    "from collections import Counter\n",
    "counts = []\n",
    "for i in range(discrete_params.shape[0]):\n",
    "    print('node:', i+1)\n",
    "    for j in range(discrete_params.shape[1]):\n",
    "        p = discrete_params[i][j]\n",
    "        if p!=0:\n",
    "            print('\\t{} {}'.format('+' if p>0 else '-', non_zero_preds[j]))\n",
    "            counts.append(non_zero_preds[j])\n",
    "\n",
    "print()\n",
    "print(len(set(counts)))\n",
    "print((Counter(counts).most_common()))"
   ]
  },
  {
   "cell_type": "code",
   "execution_count": null,
   "metadata": {},
   "outputs": [],
   "source": [
    "final_preds= ['perc_interacted_subpage', 'perc_interacted_oucontent', 'perc_interacted_quiz',\n",
    "                'session_count_homepage']\n"
   ]
  },
  {
   "cell_type": "code",
   "execution_count": 32,
   "metadata": {},
   "outputs": [],
   "source": [
    "std_feats = semester_feature_df[final_preds].apply(stats.zscore)\n",
    "std_feats['gender_num']=semester_feature_df.gender_num\n",
    "std_feats['final_result_num']=semester_feature_df.final_result_num"
   ]
  },
  {
   "cell_type": "code",
   "execution_count": 33,
   "metadata": {},
   "outputs": [
    {
     "name": "stdout",
     "output_type": "stream",
     "text": [
      "        Accuracy:84.31\n",
      "        Precision:[0.82497839 0.85850091]\n",
      "        Recall:[0.83144599 0.85288776]\n",
      "        F1:[0.82819957 0.85568513]\n",
      "        Accuracy:63.70\n",
      "        Precision:[0.62461913 0.6598755 ]\n",
      "        Recall:[0.7732931  0.48623853]\n",
      "        F1:[0.69105006 0.55990396]\n"
     ]
    },
    {
     "data": {
      "text/plain": [
       "LogisticRegression(C=1, max_iter=50000, penalty='none', random_state=0)"
      ]
     },
     "execution_count": 33,
     "metadata": {},
     "output_type": "execute_result"
    }
   ],
   "source": [
    "ml_helper_methods.test_logit_model_accuracy(\n",
    "    std_feats, predictors = final_preds, label = 'final_result_num', max_iter=50000)\n",
    "\n",
    "ml_helper_methods.test_logit_model_accuracy(\n",
    "    std_feats, predictors = final_preds, label = 'gender_num', max_iter=50000)"
   ]
  },
  {
   "cell_type": "code",
   "execution_count": null,
   "metadata": {},
   "outputs": [],
   "source": []
  },
  {
   "cell_type": "code",
   "execution_count": 38,
   "metadata": {},
   "outputs": [
    {
     "data": {
      "text/html": [
       "<div>\n",
       "<style scoped>\n",
       "    .dataframe tbody tr th:only-of-type {\n",
       "        vertical-align: middle;\n",
       "    }\n",
       "\n",
       "    .dataframe tbody tr th {\n",
       "        vertical-align: top;\n",
       "    }\n",
       "\n",
       "    .dataframe thead th {\n",
       "        text-align: right;\n",
       "    }\n",
       "</style>\n",
       "<table border=\"1\" class=\"dataframe\">\n",
       "  <thead>\n",
       "    <tr style=\"text-align: right;\">\n",
       "      <th></th>\n",
       "      <th>perc_interacted_subpage</th>\n",
       "      <th>perc_interacted_oucontent</th>\n",
       "      <th>perc_interacted_quiz</th>\n",
       "      <th>session_count_homepage</th>\n",
       "      <th>combined_feat</th>\n",
       "    </tr>\n",
       "    <tr>\n",
       "      <th>row_id</th>\n",
       "      <th></th>\n",
       "      <th></th>\n",
       "      <th></th>\n",
       "      <th></th>\n",
       "      <th></th>\n",
       "    </tr>\n",
       "  </thead>\n",
       "  <tbody>\n",
       "    <tr>\n",
       "      <th>79461_CCC_2014B</th>\n",
       "      <td>28.571428</td>\n",
       "      <td>0.000000</td>\n",
       "      <td>62.499996</td>\n",
       "      <td>45</td>\n",
       "      <td>136.071424</td>\n",
       "    </tr>\n",
       "    <tr>\n",
       "      <th>2356809_BBB_2013J</th>\n",
       "      <td>42.105262</td>\n",
       "      <td>99.999967</td>\n",
       "      <td>99.999980</td>\n",
       "      <td>95</td>\n",
       "      <td>337.105209</td>\n",
       "    </tr>\n",
       "  </tbody>\n",
       "</table>\n",
       "</div>"
      ],
      "text/plain": [
       "                   perc_interacted_subpage  perc_interacted_oucontent  \\\n",
       "row_id                                                                  \n",
       "79461_CCC_2014B                  28.571428                   0.000000   \n",
       "2356809_BBB_2013J                42.105262                  99.999967   \n",
       "\n",
       "                   perc_interacted_quiz  session_count_homepage  combined_feat  \n",
       "row_id                                                                          \n",
       "79461_CCC_2014B               62.499996                      45     136.071424  \n",
       "2356809_BBB_2013J             99.999980                      95     337.105209  "
      ]
     },
     "execution_count": 38,
     "metadata": {},
     "output_type": "execute_result"
    }
   ],
   "source": [
    "semester_feature_df['combined_feat'] = semester_feature_df[final_preds].sum(axis=1)\n",
    "semester_feature_df.head(2)[final_preds+['combined_feat']]"
   ]
  },
  {
   "cell_type": "code",
   "execution_count": 34,
   "metadata": {},
   "outputs": [
    {
     "data": {
      "text/html": [
       "<div>\n",
       "<style scoped>\n",
       "    .dataframe tbody tr th:only-of-type {\n",
       "        vertical-align: middle;\n",
       "    }\n",
       "\n",
       "    .dataframe tbody tr th {\n",
       "        vertical-align: top;\n",
       "    }\n",
       "\n",
       "    .dataframe thead th {\n",
       "        text-align: right;\n",
       "    }\n",
       "</style>\n",
       "<table border=\"1\" class=\"dataframe\">\n",
       "  <thead>\n",
       "    <tr style=\"text-align: right;\">\n",
       "      <th></th>\n",
       "      <th>perc_interacted_subpage</th>\n",
       "      <th>perc_interacted_oucontent</th>\n",
       "      <th>perc_interacted_quiz</th>\n",
       "      <th>session_count_homepage</th>\n",
       "      <th>combined_feat</th>\n",
       "    </tr>\n",
       "    <tr>\n",
       "      <th>row_id</th>\n",
       "      <th></th>\n",
       "      <th></th>\n",
       "      <th></th>\n",
       "      <th></th>\n",
       "      <th></th>\n",
       "    </tr>\n",
       "  </thead>\n",
       "  <tbody>\n",
       "    <tr>\n",
       "      <th>79461_CCC_2014B</th>\n",
       "      <td>-0.306942</td>\n",
       "      <td>-1.395830</td>\n",
       "      <td>0.466967</td>\n",
       "      <td>-0.283859</td>\n",
       "      <td>-1.519664</td>\n",
       "    </tr>\n",
       "    <tr>\n",
       "      <th>2356809_BBB_2013J</th>\n",
       "      <td>0.317316</td>\n",
       "      <td>1.763831</td>\n",
       "      <td>1.420956</td>\n",
       "      <td>0.670864</td>\n",
       "      <td>4.172966</td>\n",
       "    </tr>\n",
       "  </tbody>\n",
       "</table>\n",
       "</div>"
      ],
      "text/plain": [
       "                   perc_interacted_subpage  perc_interacted_oucontent  \\\n",
       "row_id                                                                  \n",
       "79461_CCC_2014B                  -0.306942                  -1.395830   \n",
       "2356809_BBB_2013J                 0.317316                   1.763831   \n",
       "\n",
       "                   perc_interacted_quiz  session_count_homepage  combined_feat  \n",
       "row_id                                                                          \n",
       "79461_CCC_2014B                0.466967               -0.283859      -1.519664  \n",
       "2356809_BBB_2013J              1.420956                0.670864       4.172966  "
      ]
     },
     "execution_count": 34,
     "metadata": {},
     "output_type": "execute_result"
    }
   ],
   "source": [
    "std_feats['combined_feat'] = std_feats[final_preds].sum(axis=1)\n",
    "std_feats.head(2)[final_preds+['combined_feat']]"
   ]
  },
  {
   "cell_type": "code",
   "execution_count": 39,
   "metadata": {},
   "outputs": [
    {
     "name": "stdout",
     "output_type": "stream",
     "text": [
      "        Accuracy:83.50\n",
      "        Precision:[0.81652964 0.85062089]\n",
      "        Recall:[0.82186411 0.8459862 ]\n",
      "        F1:[0.81918819 0.84829721]\n",
      "        Accuracy:51.32\n",
      "        Precision:[0.52031151 0.39932886]\n",
      "        Recall:[0.93247831 0.04962469]\n",
      "        F1:[0.66792759 0.08827893]\n"
     ]
    },
    {
     "data": {
      "text/plain": [
       "LogisticRegression(C=1, max_iter=50000, penalty='none', random_state=0)"
      ]
     },
     "execution_count": 39,
     "metadata": {},
     "output_type": "execute_result"
    }
   ],
   "source": [
    "ml_helper_methods.test_logit_model_accuracy(\n",
    "    semester_feature_df, predictors = ['combined_feat'], label = 'final_result_num', max_iter=50000)\n",
    "\n",
    "ml_helper_methods.test_logit_model_accuracy(\n",
    "    semester_feature_df, predictors = ['combined_feat'], label = 'gender_num', max_iter=50000)"
   ]
  },
  {
   "cell_type": "code",
   "execution_count": 35,
   "metadata": {},
   "outputs": [
    {
     "name": "stdout",
     "output_type": "stream",
     "text": [
      "        Accuracy:83.20\n",
      "        Precision:[0.81643357 0.8449837 ]\n",
      "        Recall:[0.81358885 0.84743916]\n",
      "        F1:[0.81500873 0.84620965]\n",
      "        Accuracy:51.24\n",
      "        Precision:[0.52106084 0.4430605 ]\n",
      "        Recall:[0.88193135 0.10383653]\n",
      "        F1:[0.65508546 0.16824324]\n"
     ]
    },
    {
     "data": {
      "text/plain": [
       "LogisticRegression(C=1, max_iter=50000, penalty='none', random_state=0)"
      ]
     },
     "execution_count": 35,
     "metadata": {},
     "output_type": "execute_result"
    }
   ],
   "source": [
    "ml_helper_methods.test_logit_model_accuracy(\n",
    "    std_feats, predictors = ['combined_feat'], label = 'final_result_num', max_iter=50000)\n",
    "\n",
    "ml_helper_methods.test_logit_model_accuracy(\n",
    "    std_feats, predictors = ['combined_feat'], label = 'gender_num', max_iter=50000)"
   ]
  },
  {
   "cell_type": "code",
   "execution_count": 37,
   "metadata": {},
   "outputs": [
    {
     "data": {
      "text/html": [
       "<div>\n",
       "<style scoped>\n",
       "    .dataframe tbody tr th:only-of-type {\n",
       "        vertical-align: middle;\n",
       "    }\n",
       "\n",
       "    .dataframe tbody tr th {\n",
       "        vertical-align: top;\n",
       "    }\n",
       "\n",
       "    .dataframe thead th {\n",
       "        text-align: right;\n",
       "    }\n",
       "</style>\n",
       "<table border=\"1\" class=\"dataframe\">\n",
       "  <thead>\n",
       "    <tr style=\"text-align: right;\">\n",
       "      <th></th>\n",
       "      <th></th>\n",
       "      <th>coef</th>\n",
       "      <th>std err</th>\n",
       "      <th>z</th>\n",
       "      <th>P&gt;|z|</th>\n",
       "      <th>[0.025</th>\n",
       "      <th>0.975]</th>\n",
       "      <th>OR</th>\n",
       "      <th>_[0.025</th>\n",
       "      <th>0.975]_</th>\n",
       "    </tr>\n",
       "  </thead>\n",
       "  <tbody>\n",
       "    <tr>\n",
       "      <th>0</th>\n",
       "      <td>const</td>\n",
       "      <td>0.3809</td>\n",
       "      <td>0.019</td>\n",
       "      <td>19.740</td>\n",
       "      <td>0.0</td>\n",
       "      <td>0.343</td>\n",
       "      <td>0.419</td>\n",
       "      <td>1.463601</td>\n",
       "      <td>1.409169</td>\n",
       "      <td>1.520440</td>\n",
       "    </tr>\n",
       "    <tr>\n",
       "      <th>1</th>\n",
       "      <td>perc_interacted_subpage</td>\n",
       "      <td>0.4396</td>\n",
       "      <td>0.024</td>\n",
       "      <td>18.630</td>\n",
       "      <td>0.0</td>\n",
       "      <td>0.393</td>\n",
       "      <td>0.486</td>\n",
       "      <td>1.552086</td>\n",
       "      <td>1.481418</td>\n",
       "      <td>1.625800</td>\n",
       "    </tr>\n",
       "    <tr>\n",
       "      <th>2</th>\n",
       "      <td>perc_interacted_oucontent</td>\n",
       "      <td>0.5670</td>\n",
       "      <td>0.021</td>\n",
       "      <td>26.718</td>\n",
       "      <td>0.0</td>\n",
       "      <td>0.525</td>\n",
       "      <td>0.609</td>\n",
       "      <td>1.762970</td>\n",
       "      <td>1.690459</td>\n",
       "      <td>1.838592</td>\n",
       "    </tr>\n",
       "    <tr>\n",
       "      <th>3</th>\n",
       "      <td>perc_interacted_quiz</td>\n",
       "      <td>1.1061</td>\n",
       "      <td>0.021</td>\n",
       "      <td>53.186</td>\n",
       "      <td>0.0</td>\n",
       "      <td>1.065</td>\n",
       "      <td>1.147</td>\n",
       "      <td>3.022547</td>\n",
       "      <td>2.900839</td>\n",
       "      <td>3.148733</td>\n",
       "    </tr>\n",
       "    <tr>\n",
       "      <th>4</th>\n",
       "      <td>session_count_homepage</td>\n",
       "      <td>1.1816</td>\n",
       "      <td>0.032</td>\n",
       "      <td>36.906</td>\n",
       "      <td>0.0</td>\n",
       "      <td>1.119</td>\n",
       "      <td>1.244</td>\n",
       "      <td>3.259585</td>\n",
       "      <td>3.061791</td>\n",
       "      <td>3.469464</td>\n",
       "    </tr>\n",
       "  </tbody>\n",
       "</table>\n",
       "</div>"
      ],
      "text/plain": [
       "                                coef  std err       z  P>|z|  [0.025  0.975]  \\\n",
       "0  const                      0.3809    0.019  19.740    0.0   0.343   0.419   \n",
       "1  perc_interacted_subpage    0.4396    0.024  18.630    0.0   0.393   0.486   \n",
       "2  perc_interacted_oucontent  0.5670    0.021  26.718    0.0   0.525   0.609   \n",
       "3  perc_interacted_quiz       1.1061    0.021  53.186    0.0   1.065   1.147   \n",
       "4  session_count_homepage     1.1816    0.032  36.906    0.0   1.119   1.244   \n",
       "\n",
       "         OR   _[0.025   0.975]_  \n",
       "0  1.463601  1.409169  1.520440  \n",
       "1  1.552086  1.481418  1.625800  \n",
       "2  1.762970  1.690459  1.838592  \n",
       "3  3.022547  2.900839  3.148733  \n",
       "4  3.259585  3.061791  3.469464  "
      ]
     },
     "execution_count": 37,
     "metadata": {},
     "output_type": "execute_result"
    }
   ],
   "source": [
    "ml_helper_methods.get_OR(ml_helper_methods.get_logit_model(\n",
    "                        data=std_feats,\n",
    "                        predictors= final_preds,\n",
    "                        label='final_result_num',\n",
    "                        l1_lambda=.00000))"
   ]
  },
  {
   "cell_type": "code",
   "execution_count": null,
   "metadata": {},
   "outputs": [],
   "source": [
    "non_zero_preds2 = [non_zero_preds[i-1] for i in [1, 4, 5, 10, 11, 13, 14, 15, 18]]\n",
    "non_zero_preds2#, oulad_helper.activity_name_dict['ouelluminate'], oulad_helper.activity_name_dict['oucontent']"
   ]
  },
  {
   "cell_type": "code",
   "execution_count": null,
   "metadata": {},
   "outputs": [],
   "source": [
    "disc_cols =['d_{}'.format(i) for i in range(1,11)]\n",
    "discrete_transform_df = np.matmul(semester_feature_df[non_zero_preds].values, discrete_params.T)\n",
    "discrete_transform_df = pd.DataFrame(discrete_transform_df, columns =disc_cols, \n",
    "                                     index=semester_feature_df.index)\n",
    "discrete_transform_df['gender_num']=semester_feature_df.gender_num\n",
    "discrete_transform_df['final_result_num']=semester_feature_df.final_result_num\n",
    "discrete_transform_df.head(2)"
   ]
  },
  {
   "cell_type": "code",
   "execution_count": null,
   "metadata": {},
   "outputs": [],
   "source": [
    "ml_helper_methods.test_logit_model_accuracy(\n",
    "    discrete_transform_df, \n",
    "    predictors = disc_cols, label = 'final_result_num', max_iter=10000)\n",
    "ml_helper_methods.get_OR(ml_helper_methods.get_logit_model(\n",
    "                        data=discrete_transform_df,\n",
    "                        predictors=disc_cols,\n",
    "                        label='final_result_num',\n",
    "                        l1_lambda=.00000))"
   ]
  },
  {
   "cell_type": "code",
   "execution_count": null,
   "metadata": {},
   "outputs": [],
   "source": [
    "ml_helper_methods.test_logit_model_accuracy(\n",
    "    discrete_transform_df, \n",
    "    predictors = disc_cols, label = 'gender_num', max_iter=10000)\n",
    "\n",
    "ml_helper_methods.get_OR(ml_helper_methods.get_logit_model(\n",
    "                        data=discrete_transform_df,\n",
    "                        predictors=disc_cols,\n",
    "                        label='gender_num',\n",
    "                        l1_lambda=.00000))"
   ]
  },
  {
   "cell_type": "code",
   "execution_count": null,
   "metadata": {},
   "outputs": [],
   "source": [
    "ml_helper_methods.test_logit_model_accuracy(\n",
    "    discrete_transform_df, \n",
    "    predictors = ['d_3', 'd_4', 'd_8', 'd_10'], label = 'final_result_num', max_iter=10000)\n",
    "\n",
    "ml_helper_methods.test_logit_model_accuracy(\n",
    "    discrete_transform_df, \n",
    "    predictors = ['d_3', 'd_4', 'd_8', 'd_10'], label = 'gender_num', max_iter=10000)"
   ]
  },
  {
   "cell_type": "code",
   "execution_count": null,
   "metadata": {},
   "outputs": [],
   "source": [
    "'''get linear transformation of the features'''\n",
    "transformd_feats = reduced_model.lt(torch.Tensor(semester_feature_df[non_zero_preds].values))\n",
    "transformed_feat_df =  pd.DataFrame(transformd_feats.detach().numpy(), \n",
    "                                    columns=trans_columns,\n",
    "                                    index =semester_feature_df.index)\n",
    "transformed_feat_df['gender_num']=semester_feature_df.gender_num\n",
    "transformed_feat_df['final_result_num']=semester_feature_df.final_result_num\n",
    "transformed_feat_df.head(1)"
   ]
  },
  {
   "cell_type": "code",
   "execution_count": null,
   "metadata": {},
   "outputs": [],
   "source": [
    "thresh=1e-3\n",
    "clamped_params = list(reduced_model.lt.parameters())[0].abs().clamp(min=thresh) - thresh\n",
    "clamped_params = clamped_params.detach().numpy().T\n",
    "\n",
    "non_zero_preds2 =[]\n",
    "for p in range(len(clamped_params)):\n",
    "    if np.count_nonzero(clamped_params[p])>0:\n",
    "        non_zero_preds2.append(semester_level_preds[p])\n",
    "print('non zero predictors:',len(non_zero_preds2))#, non_zero_preds\n",
    "non_zero_preds2"
   ]
  },
  {
   "cell_type": "code",
   "execution_count": null,
   "metadata": {},
   "outputs": [],
   "source": [
    "ml_helper_methods.test_logit_model_accuracy(\n",
    "    semester_feature_df, \n",
    "    predictors = non_zero_preds2, label = 'final_result_num', max_iter=10000)\n",
    "ml_helper_methods.test_logit_model_accuracy(\n",
    "    semester_feature_df, \n",
    "    predictors = non_zero_preds2, label = 'gender_num', max_iter=10000)"
   ]
  },
  {
   "cell_type": "code",
   "execution_count": null,
   "metadata": {},
   "outputs": [],
   "source": [
    "ml_helper_methods.test_logit_model_accuracy(\n",
    "    transformed_feat_df, \n",
    "    predictors = ['f_4'], label = 'final_result_num', max_iter=10000)\n",
    "ml_helper_methods.test_logit_model_accuracy(\n",
    "    transformed_feat_df, \n",
    "    predictors = ['f_4'], label = 'gender_num', max_iter=10000)\n"
   ]
  },
  {
   "cell_type": "code",
   "execution_count": null,
   "metadata": {},
   "outputs": [],
   "source": [
    "ml_helper_methods.test_logit_model_accuracy(\n",
    "    semester_feature_df, \n",
    "    predictors = ['perc_interacted_subpage',\n",
    "\t'session_count_homepage',\n",
    "\t'perc_interacted_quiz']\n",
    "    , label = 'final_result_num', max_iter=10000)\n",
    "ml_helper_methods.get_OR(ml_helper_methods.get_logit_model(\n",
    "                        data=transformed_feat_df,\n",
    "                        predictors=trans_columns,\n",
    "                        label='gender_num',\n",
    "                        l1_lambda=.00000))"
   ]
  },
  {
   "cell_type": "code",
   "execution_count": null,
   "metadata": {},
   "outputs": [],
   "source": [
    "predictors = ['f_1', 'f_7']\n",
    "ml_helper_methods.test_logit_model_accuracy(\n",
    "    transformed_feat_df, \n",
    "    predictors = predictors, label = 'final_result_num', max_iter=10000)\n",
    "ml_helper_methods.get_OR(ml_helper_methods.get_logit_model(data=transformed_feat_df,\n",
    "                          predictors=predictors,\n",
    "                          label='final_result_num'))"
   ]
  },
  {
   "cell_type": "code",
   "execution_count": null,
   "metadata": {},
   "outputs": [],
   "source": [
    "ml_helper_methods.test_logit_model_accuracy(\n",
    "    transformed_feat_df, \n",
    "    predictors = predictors, label = 'gender_num', max_iter=10000)\n",
    "ml_helper_methods.get_OR(ml_helper_methods.test_logit(data=transformed_feat_df,\n",
    "                          predictors=predictors,\n",
    "                          label='gender_num'))"
   ]
  },
  {
   "cell_type": "code",
   "execution_count": null,
   "metadata": {},
   "outputs": [],
   "source": [
    "'''find corrlations of raw features with the three linearly transformed features'''\n",
    "corr_df = pd.DataFrame(index=predictors)\n",
    "for f in predictors:\n",
    "    print(f)\n",
    "    for pred in non_zero_preds:\n",
    "        r, p = stats.pearsonr(transformed_feat_df[f], semester_feature_df[pred])\n",
    "        corr_df.loc[f, pred]=r\n",
    "#         if p<0.05 and np.fabs(r)>.0:\n",
    "#            print('\\t{}: r=  {:.2f}'.format(pred, r))\n",
    "\n",
    "\n",
    "sns.heatmap(corr_df.T)\n",
    "plt.show()\n",
    "corr_df.T.sort_values(predictors, ascending=False)"
   ]
  },
  {
   "cell_type": "code",
   "execution_count": null,
   "metadata": {},
   "outputs": [],
   "source": [
    "preds = [\n",
    "#     'sum_click_resource',\n",
    " 'session_count_url',\n",
    " 'perc_interacted_url',\n",
    "#  'session_count_forumng',\n",
    " 'sum_click_homepage',\n",
    " 'sum_click_subpage',\n",
    " 'session_count_resource',\n",
    "#  'perc_interacted_subpage',\n",
    "#  'session_count_homepage',\n",
    " 'sum_click_oucontent',\n",
    "#  'sum_click_url',\n",
    " 'perc_interacted_quiz',\n",
    " 'sum_click_forumng',\n",
    " 'var_block_len']"
   ]
  },
  {
   "cell_type": "code",
   "execution_count": null,
   "metadata": {},
   "outputs": [],
   "source": [
    "ml_helper_methods.test_logit_model_accuracy(\n",
    "    semester_feature_df, \n",
    "    predictors = preds, \n",
    "    label = 'final_result_num', max_iter=10000)\n",
    "ml_helper_methods.test_logit_model_accuracy(\n",
    "    semester_feature_df, \n",
    "    predictors = preds, \n",
    "    label = 'gender_num', max_iter=10000)"
   ]
  },
  {
   "cell_type": "code",
   "execution_count": null,
   "metadata": {},
   "outputs": [],
   "source": [
    "list(reduced_model.lt.parameters())[0][4].detach()"
   ]
  },
  {
   "cell_type": "code",
   "execution_count": null,
   "metadata": {},
   "outputs": [],
   "source": [
    "'''Extract factors from the transformed features'''\n",
    "\n",
    "# n_comp=10\n",
    "# pca = PCA(n_components=n_comp).fit(transformed_feat_df[trans_columns].values)\n",
    "# pca.explained_variance_ratio_,np.cumsum(pca.explained_variance_ratio_)\n",
    "# plot_helper_methods.plot_scree(n_comp, pca, figsize=(10,4))\n",
    "\n",
    "fa = FactorAnalyzer(rotation='varimax', n_factors=10)\n",
    "fa.fit(transformed_feat_df[trans_columns])\n",
    "loadings = pd.DataFrame(fa.loadings_.T, columns=trans_columns)\n",
    "loadings=clarify_loadings(loadings, threshold=.3)#.rename(columns=high_level_concepts_name)\n",
    "# loadings"
   ]
  },
  {
   "cell_type": "code",
   "execution_count": null,
   "metadata": {},
   "outputs": [],
   "source": [
    "fa_transformed = fa.transform(transformed_feat_df[trans_columns].values)\n",
    "fa_transformed_df = pd.DataFrame(fa_transformed, columns=trans_columns, index=transformed_feat_df.index)\n",
    "fa_transformed_df['gender_num'] = transformed_feat_df.gender_num\n",
    "fa_transformed_df['final_result_num'] = transformed_feat_df.final_result_num\n",
    "fa_transformed_df.head(2)"
   ]
  },
  {
   "cell_type": "code",
   "execution_count": null,
   "metadata": {},
   "outputs": [],
   "source": [
    "ml_helper_methods.test_logit_model_accuracy(\n",
    "    fa_transformed_df, predictors = trans_columns,\n",
    "    label = 'final_result_num', max_iter=10000)\n",
    "ml_helper_methods.get_OR(ml_helper_methods.test_logit(data=fa_transformed_df,\n",
    "                          predictors=set(trans_columns).difference(['f_10']),\n",
    "                          label='final_result_num'))"
   ]
  },
  {
   "cell_type": "code",
   "execution_count": null,
   "metadata": {},
   "outputs": [],
   "source": [
    "ml_helper_methods.test_logit_model_accuracy(fa_transformed_df,\n",
    "                          predictors=['f_3'],\n",
    "                          label='final_result_num')\n",
    "print()\n",
    "ml_helper_methods.test_logit_model_accuracy(fa_transformed_df,\n",
    "                          predictors=['f_3'],\n",
    "                          label='gender_num')"
   ]
  },
  {
   "cell_type": "code",
   "execution_count": null,
   "metadata": {},
   "outputs": [],
   "source": [
    "ml_helper_methods.test_logit_model_accuracy(\n",
    "    fa_transformed_df, predictors = trans_columns,\n",
    "    label = 'gender_num', max_iter=10000)\n",
    "\n",
    "ml_helper_methods.get_OR(ml_helper_methods.test_logit(data=fa_transformed_df,\n",
    "                          predictors=set(trans_columns).difference(['f_10']),\n",
    "                          label='gender_num'))"
   ]
  },
  {
   "cell_type": "code",
   "execution_count": null,
   "metadata": {},
   "outputs": [],
   "source": [
    "for pred in trans_columns:\n",
    "    r, p = stats.pearsonr(fa_transformed_df.f_3, transformed_feat_df[pred])\n",
    "    if p<0.05 and np.fabs(r)>.3:\n",
    "        print('\\t{}: r={:.2f}'.format(pred, r))\n"
   ]
  },
  {
   "cell_type": "code",
   "execution_count": null,
   "metadata": {},
   "outputs": [],
   "source": [
    "for pred in non_zero_preds:\n",
    "    r, p = stats.pearsonr(fa_transformed_df.f_3, semester_feature_df[pred])\n",
    "    if p<0.05 and np.fabs(r)>.3:\n",
    "        print('\\t{}: r={:.2f}'.format(pred, r))\n"
   ]
  },
  {
   "cell_type": "code",
   "execution_count": null,
   "metadata": {},
   "outputs": [],
   "source": [
    "ml_helper_methods.test_logit_model_accuracy(\n",
    "    transformed_feat_df, predictors = trans_columns,\n",
    "    label = 'gender_num', max_iter=10000)\n",
    "ml_helper_methods.get_OR(ml_helper_methods.test_logit(data=transformed_feat_df,\n",
    "                          predictors=trans_columns,\n",
    "                          label='gender_num'))"
   ]
  },
  {
   "cell_type": "code",
   "execution_count": null,
   "metadata": {},
   "outputs": [],
   "source": [
    "'''Factor analysis on the non-zero features'''\n",
    "n_comp=20\n",
    "pca = PCA(n_components=n_comp).fit(semester_feature_df[non_zero_preds].values)\n",
    "pca.explained_variance_ratio_,np.cumsum(pca.explained_variance_ratio_)\n",
    "plot_helper_methods.plot_scree(n_comp, pca, figsize=(10,4))\n",
    "\n",
    "fa = FactorAnalyzer(rotation='varimax', n_factors=3)\n",
    "fa.fit(semester_feature_df[non_zero_preds])\n",
    "loadings = pd.DataFrame(fa.loadings_.T, columns=non_zero_preds)\n",
    "loadings=clarify_loadings(loadings, threshold=.3)#.rename(columns=high_level_concepts_name)\n",
    "loadings"
   ]
  },
  {
   "cell_type": "code",
   "execution_count": null,
   "metadata": {},
   "outputs": [],
   "source": [
    "non_zero_pred_factored_df = pd.DataFrame(fa.transform(semester_feature_df[non_zero_preds]), \n",
    "                               index=semester_feature_df.index)\n",
    "non_zero_pred_factored_df.head(2)"
   ]
  },
  {
   "cell_type": "code",
   "execution_count": null,
   "metadata": {},
   "outputs": [],
   "source": [
    "\n",
    "non_zero_pred_factored_df['gender_num']=semester_feature_df.gender_num\n",
    "non_zero_pred_factored_df['final_result_num']=semester_feature_df.final_result_num\n",
    "\n",
    "non_zero_pred_factored_df.columns"
   ]
  },
  {
   "cell_type": "code",
   "execution_count": null,
   "metadata": {},
   "outputs": [],
   "source": [
    "ml_helper_methods.test_logit_model_accuracy(\n",
    "    non_zero_pred_factored_df, predictors = [0,1,2], label = 'gender_num', max_iter=1000)"
   ]
  },
  {
   "cell_type": "code",
   "execution_count": null,
   "metadata": {},
   "outputs": [],
   "source": [
    "ml_helper_methods.test_logit_model_accuracy(\n",
    "    non_zero_pred_factored_df, predictors = [0,1,2], label = 'final_result_num', max_iter=1000)"
   ]
  },
  {
   "cell_type": "code",
   "execution_count": null,
   "metadata": {},
   "outputs": [],
   "source": [
    "'''now extract linearly transformed features from the model that was trained above'''\n",
    "lt_dim = 10 #output dimension of the Linear Transformation layer\n",
    "trans_columns=['f_{}'.format(i) for i in range(1,1+lt_dim)]\n",
    "transformd_feats = l1_l2_model.lt(torch.Tensor(semester_feature_df[semester_level_preds].values))\n",
    "assert(transformd_feats.size()[1]==10)\n",
    "transformed_feat_df =  pd.DataFrame(transformd_feats.detach().numpy(), \n",
    "                                    columns=trans_columns,\n",
    "                                    index =semester_feature_df.index)\n",
    "transformed_feat_df.head(1)"
   ]
  },
  {
   "cell_type": "code",
   "execution_count": null,
   "metadata": {},
   "outputs": [],
   "source": [
    "transformed_feat_df[trans_columns].corr()"
   ]
  },
  {
   "cell_type": "code",
   "execution_count": null,
   "metadata": {},
   "outputs": [],
   "source": [
    "\n",
    "transformed_feat_df['age']=semester_feature_df.age_num\n",
    "transformed_feat_df['studied_credits']=semester_feature_df.credits\n",
    "transformed_feat_df['previously_attempted']=semester_feature_df.previously_attempted\n",
    "transformed_feat_df['highest_education_num']=semester_feature_df.highest_education\n",
    "transformed_feat_df['gender_num']=semester_feature_df.gender_num\n",
    "transformed_feat_df['final_result_num']=semester_feature_df.final_result_num\n",
    "\n",
    "transformed_feat_df.head(2)"
   ]
  },
  {
   "cell_type": "code",
   "execution_count": null,
   "metadata": {},
   "outputs": [],
   "source": [
    "ml_helper_methods.test_logit_model_accuracy(\n",
    "    transformed_feat_df, predictors = trans_columns, label = 'gender_num', max_iter=10000)"
   ]
  },
  {
   "cell_type": "code",
   "execution_count": null,
   "metadata": {},
   "outputs": [],
   "source": [
    "ml_helper_methods.test_logit_model_accuracy(\n",
    "    transformed_feat_df, predictors = trans_columns, label = 'final_result_num', max_iter=10000)"
   ]
  },
  {
   "cell_type": "code",
   "execution_count": null,
   "metadata": {},
   "outputs": [],
   "source": [
    "'''Factor analysis on the linearly transformed features'''\n",
    "fa = FactorAnalyzer(rotation='varimax', n_factors=n_factors)\n",
    "fa.fit(transformed_feat_df[trans_columns])\n",
    "loadings = pd.DataFrame(fa.loadings_.T, columns=trans_columns)\n",
    "loadings=clarify_loadings(loadings, threshold=.3)#.rename(columns=high_level_concepts_name)\n",
    "loadings"
   ]
  },
  {
   "cell_type": "code",
   "execution_count": null,
   "metadata": {},
   "outputs": [],
   "source": [
    "lt_factored_df = pd.DataFrame(fa.transform(transformed_feat_df[trans_columns]), \n",
    "                              columns = trans_columns, index=transformed_feat_df.index)\n",
    "lt_factored_df.corr()"
   ]
  },
  {
   "cell_type": "code",
   "execution_count": null,
   "metadata": {},
   "outputs": [],
   "source": [
    "\n",
    "lt_factored_df['gender_num']=semester_feature_df.gender_num\n",
    "lt_factored_df['final_result_num']=semester_feature_df.final_result_num\n",
    "\n",
    "lt_factored_df.head(2)"
   ]
  },
  {
   "cell_type": "code",
   "execution_count": null,
   "metadata": {},
   "outputs": [],
   "source": [
    "ml_helper_methods.test_logit_model_accuracy(\n",
    "    lt_factored_df, predictors = trans_columns,#[:7],\n",
    "    label = 'final_result_num', max_iter=10000)"
   ]
  },
  {
   "cell_type": "code",
   "execution_count": null,
   "metadata": {},
   "outputs": [],
   "source": [
    "ml_helper_methods.test_logit_model_accuracy(\n",
    "    lt_factored_df, predictors = trans_columns,#[:8],\n",
    "    label = 'gender_num', max_iter=10000)"
   ]
  },
  {
   "cell_type": "code",
   "execution_count": null,
   "metadata": {},
   "outputs": [],
   "source": []
  },
  {
   "cell_type": "code",
   "execution_count": null,
   "metadata": {},
   "outputs": [],
   "source": [
    "ortho_model = oulad_helper.FeatExtractorGR(dim_in = len(semester_level_preds)).to(device)\n",
    "\n",
    "domain_acc, class_acc, domain_loss, class_loss = oulad_helper.train_feat_transformer(data=semester_feature_df, \n",
    "                                    predictors=semester_level_preds,\n",
    "                                    outcome_col='final_result_num',\n",
    "                                    sensitive_attr_col='gender_num',\n",
    "                                    model=l1_l2_model,\n",
    "                                    n_epochs=n_epochs,\n",
    "                                    l1_weight = .0,\n",
    "                                    l2_weight=.0,\n",
    "                                    ortho_weight=1000)\n"
   ]
  },
  {
   "cell_type": "code",
   "execution_count": null,
   "metadata": {},
   "outputs": [],
   "source": [
    "ortho_transformd_feats = ortho_model.lt(torch.Tensor(semester_feature_df[semester_level_preds].values))\n",
    "ortho_transformed_feat_df =  pd.DataFrame(ortho_transformd_feats.detach().numpy(), \n",
    "                                    columns=trans_columns,\n",
    "                                    index =semester_feature_df.index)\n",
    "ortho_transformed_feat_df.corr()"
   ]
  },
  {
   "cell_type": "code",
   "execution_count": null,
   "metadata": {},
   "outputs": [],
   "source": [
    "tsne = TSNE(n_components=2, verbose=1, perplexity=40, n_iter=300)\n",
    "tsne_results = tsne.fit_transform(transformed_feat_df.values)\n",
    "transformed_feat_df['tsne-1d'] = tsne_results[:,0]\n",
    "transformed_feat_df['tsne-2d'] = tsne_results[:,1]"
   ]
  },
  {
   "cell_type": "code",
   "execution_count": null,
   "metadata": {},
   "outputs": [],
   "source": [
    "sum(param.abs().sum() for name,param in l1_l2_model.lt.named_parameters() if 'weight' in name)"
   ]
  },
  {
   "cell_type": "code",
   "execution_count": null,
   "metadata": {},
   "outputs": [],
   "source": [
    "params=[param for name,param in l1_l2_model.lt.named_parameters() if 'weight' in name][0]\n",
    "torch.tensordot(params, params, dims=([1],[1])).abs().fill_diagonal_(0).sum()/2"
   ]
  },
  {
   "cell_type": "code",
   "execution_count": null,
   "metadata": {},
   "outputs": [],
   "source": [
    "ml_helper_methods.get_OR(ml_helper_methods.test_logit(data=transformed_feat_df,\n",
    "                          predictors=trans_columns,\n",
    "                          label='final_result_num'))"
   ]
  },
  {
   "cell_type": "code",
   "execution_count": null,
   "metadata": {},
   "outputs": [],
   "source": [
    "ml_helper_methods.get_OR(ml_helper_methods.test_logit(data=transformed_feat_df,\n",
    "                          predictors=trans_columns,\n",
    "                          label='gender_num'))"
   ]
  },
  {
   "cell_type": "code",
   "execution_count": null,
   "metadata": {},
   "outputs": [],
   "source": [
    "plot_helper_methods.plot_corr_matrix(transformed_feat_df[trans_columns+['gender_num', 'final_result_num']].corr())"
   ]
  },
  {
   "cell_type": "code",
   "execution_count": null,
   "metadata": {},
   "outputs": [],
   "source": [
    "ml_helper_methods.test_logit_model_accuracy(transformed_feat_df, \n",
    "                             predictors = trans_columns,\n",
    "                             label = 'final_result_num',\n",
    "                             max_iter = 500)"
   ]
  },
  {
   "cell_type": "code",
   "execution_count": null,
   "metadata": {},
   "outputs": [],
   "source": [
    "ml_helper_methods.test_logit_model_accuracy(transformed_feat_df, \n",
    "                             predictors = trans_columns,\n",
    "                             label = 'gender_num',\n",
    "                             max_iter=500)"
   ]
  },
  {
   "cell_type": "code",
   "execution_count": null,
   "metadata": {},
   "outputs": [],
   "source": [
    "for c in trans_columns:\n",
    "    print(c)\n",
    "    ml_helper_methods.test_logit_model_accuracy(transformed_feat_df, \n",
    "                                 predictors = set(trans_columns).difference([c]),\n",
    "                                 label = 'final_result_num',\n",
    "                                 max_iter=500)"
   ]
  },
  {
   "cell_type": "code",
   "execution_count": null,
   "metadata": {},
   "outputs": [],
   "source": [
    "'''use raw predictors that have large weights'''\n",
    "non_zero_cols = [list(semester_feature_df)[i] for i in non_zero_preds]\n",
    "print(len(non_zero_cols), non_zero_cols)\n",
    "ml_helper_methods.test_logit_model_accuracy(semester_feature_df, \n",
    "                             predictors = non_zero_cols,\n",
    "                             label = 'final_result_num',\n",
    "                             max_iter=5000)"
   ]
  },
  {
   "cell_type": "code",
   "execution_count": null,
   "metadata": {},
   "outputs": [],
   "source": [
    "ml_helper_methods.test_logit_model_accuracy(semester_feature_df, \n",
    "                             predictors = non_zero_cols,\n",
    "                             label = 'gender_num',\n",
    "                             max_iter=5000)"
   ]
  },
  {
   "cell_type": "code",
   "execution_count": null,
   "metadata": {},
   "outputs": [],
   "source": [
    "'''Find correlations among these transformed and original features'''\n",
    "raw_preds=[]\n",
    "for col in ['f_2', 'f_9']:#trans_columns:\n",
    "    print(col)\n",
    "    for pred in semester_level_preds:\n",
    "        r, p = stats.pearsonr(transformed_feat_df[col], semester_feature_df[pred])\n",
    "        if math.fabs(r)>.5 and p<0.05:\n",
    "            print('{}: r={:.2f}'.format(pred, r,))\n",
    "            raw_preds.append(pred)\n",
    "    print()"
   ]
  },
  {
   "cell_type": "code",
   "execution_count": null,
   "metadata": {},
   "outputs": [],
   "source": [
    "'''Now see how raw features that are correlated with the two factors perform'''\n",
    "ml_helper_methods.test_logit_model_accuracy(semester_feature_df, \n",
    "                             predictors = raw_preds,#['f_2' ,  'f_9'],\n",
    "                             label = 'final_result_num')"
   ]
  },
  {
   "cell_type": "code",
   "execution_count": null,
   "metadata": {},
   "outputs": [],
   "source": [
    "'''Now see how raw features that are correlated with the two factors perform'''\n",
    "print(len(raw_preds), raw_preds)\n",
    "ml_helper_methods.test_logit_model_accuracy(semester_feature_df, \n",
    "                             predictors = raw_preds,#['f_2' ,  'f_9'],\n",
    "                             label = 'gender_num')"
   ]
  },
  {
   "cell_type": "code",
   "execution_count": null,
   "metadata": {},
   "outputs": [],
   "source": [
    "ortho_transformed_feats = pd.read_csv('transformed_feat_df_l1_0.00_l2_0.00_run_1.csv')\n",
    "ortho_transformed_feats.set_index('row_id', inplace=True)\n",
    "# plot_helper_methods.plot_corr_matrix(ortho_transformed_feats[trans_columns].corr())\n",
    "ortho_transformed_feats[trans_columns].corr()"
   ]
  },
  {
   "cell_type": "code",
   "execution_count": null,
   "metadata": {},
   "outputs": [],
   "source": [
    "plt.figure(figsize=(12,8))\n",
    "sns.scatterplot(x=\"tsne-1d\", y=\"tsne-2d\", hue=\"final_result_num\", data=transformed_feat_df)"
   ]
  },
  {
   "cell_type": "code",
   "execution_count": null,
   "metadata": {},
   "outputs": [],
   "source": [
    "plt.figure(figsize=(12,8))\n",
    "sns.scatterplot(x=\"tsne-1d\", y=\"tsne-2d\", hue=\"gender_num\", data=transformed_feat_df)"
   ]
  },
  {
   "cell_type": "code",
   "execution_count": null,
   "metadata": {},
   "outputs": [],
   "source": [
    "corr_mat = semester_feature_df[semester_level_preds+trans_columns].corr()\n",
    "corr_mat"
   ]
  },
  {
   "cell_type": "code",
   "execution_count": null,
   "metadata": {},
   "outputs": [],
   "source": [
    "thres = .5\n",
    "\n",
    "freq_columns=[]\n",
    "for col in trans_columns:\n",
    "    f0=corr_mat.loc[[col]]\n",
    "    f0.drop(trans_columns, axis=1, inplace=True)\n",
    "    f0=f0[(f0.gt(thres)) | (f0.lt(-thres))].dropna(axis=1)\n",
    "    freq_columns.extend(f0.columns.tolist())\n",
    "    plt.figure(figsize=(12,2))\n",
    "    sns.scatterplot(\n",
    "        x=range(len(f0.columns)), \n",
    "        y=1,\n",
    "        color='darkorange',\n",
    "        size=f0.values[0],\n",
    "        legend=False\n",
    "    )\n",
    "    plt.xticks(range(len(f0.columns)), f0.columns, rotation=70, fontsize=16)\n",
    "    plt.ylabel('')\n",
    "    plt.yticks([])\n",
    "    plt.title(col)\n",
    "    plt.show()"
   ]
  },
  {
   "cell_type": "code",
   "execution_count": null,
   "metadata": {},
   "outputs": [],
   "source": [
    "from collections import Counter\n",
    "counts = Counter(freq_columns)\n",
    "counts_df = pd.DataFrame(counts.most_common(50), columns=['Name', 'Count']).set_index('Name')\n",
    "counts_df[counts_df.Count>3]"
   ]
  },
  {
   "cell_type": "code",
   "execution_count": null,
   "metadata": {},
   "outputs": [],
   "source": [
    "'''extract features from the encoder part of the model'''\n",
    "enc_trans_columns=['fe_{}'.format(i) for i in range(10)]\n",
    "enc_transformd_feats = model.feature_extractor(model.lt(torch.Tensor(semester_feature_df[semester_level_preds].values)))\n",
    "assert(enc_transformd_feats.size()[1]==10)\n",
    "enc_transformed_feat_df =  pd.DataFrame(enc_transformd_feats.detach().numpy(), \n",
    "                                    columns=enc_trans_columns,\n",
    "                                    index =semester_feature_df.index)\n",
    "enc_transformed_feat_df.head(1)"
   ]
  },
  {
   "cell_type": "code",
   "execution_count": null,
   "metadata": {},
   "outputs": [],
   "source": [
    "# transformed['gender']=pivot.gender\n",
    "enc_transformed_feat_df['gender_num']=semester_feature_df.gender_num\n",
    "# transformed['age']=pivot.age_num\n",
    "enc_transformed_feat_df['studied_credits']=semester_feature_df.credits\n",
    "enc_transformed_feat_df['previously_attempted']=semester_feature_df.previously_attempted\n",
    "enc_transformed_feat_df['highest_education_num']=semester_feature_df.highest_education\n",
    "enc_transformed_feat_df['final_result_num']=semester_feature_df.final_result_num\n",
    "transformed.head(2)"
   ]
  },
  {
   "cell_type": "code",
   "execution_count": null,
   "metadata": {},
   "outputs": [],
   "source": []
  },
  {
   "cell_type": "code",
   "execution_count": null,
   "metadata": {},
   "outputs": [],
   "source": [
    "ml_helper_methods.test_logit_model_accuracy(df=enc_transformed_feat_df,\n",
    "                          predictors=enc_trans_columns,\n",
    "                          label='final_result_num')"
   ]
  },
  {
   "cell_type": "code",
   "execution_count": null,
   "metadata": {},
   "outputs": [],
   "source": [
    "ml_helper_methods.test_logit_model_accuracy(df=enc_transformed_feat_df,\n",
    "                          predictors=enc_trans_columns,\n",
    "                          label='gender_num')"
   ]
  },
  {
   "cell_type": "code",
   "execution_count": null,
   "metadata": {},
   "outputs": [],
   "source": [
    "enc_tsne_results = TSNE(n_components=2, verbose=1, perplexity=40, n_iter=300).fit_transform(\n",
    "                                enc_transformed_feat_df[enc_trans_columns].values)"
   ]
  },
  {
   "cell_type": "code",
   "execution_count": null,
   "metadata": {},
   "outputs": [],
   "source": [
    "enc_transformed_feat_df['tsne-1d'] = tsne_results[:,0]\n",
    "enc_transformed_feat_df['tsne-2d'] = tsne_results[:,1]\n",
    "enc_transformed_feat_df.head(2)"
   ]
  },
  {
   "cell_type": "code",
   "execution_count": null,
   "metadata": {},
   "outputs": [],
   "source": [
    "plt.figure(figsize=(12,8))\n",
    "sns.scatterplot(\n",
    "    x=\"tsne-1d\", y=\"tsne-2d\",\n",
    "    hue=\"final_result_num\",\n",
    "#     style='gender_num',\n",
    "#     markers=['^', '*'],\n",
    "    data=enc_transformed_feat_df,\n",
    "    legend=\"full\"\n",
    ")"
   ]
  },
  {
   "cell_type": "code",
   "execution_count": null,
   "metadata": {},
   "outputs": [],
   "source": [
    "plt.figure(figsize=(12,8))\n",
    "sns.scatterplot(\n",
    "    x=\"tsne-1d\", y=\"tsne-2d\",\n",
    "    hue=\"gender_num\",\n",
    "#     style='gender_num',\n",
    "#     markers=['^', '*'],\n",
    "    data=enc_transformed_feat_df,\n",
    "    legend=\"full\"\n",
    ")"
   ]
  },
  {
   "cell_type": "markdown",
   "metadata": {},
   "source": [
    "## Extract linearly transformed features with orthogonality constraint"
   ]
  },
  {
   "cell_type": "code",
   "execution_count": null,
   "metadata": {},
   "outputs": [],
   "source": [
    "'''retrain the model by setting l1_weights to .1'''\n",
    "l1_weight = 0.1\n",
    "ortho_weight=10\n",
    "model = oulad_helper.FeatExtractorGR(dim_in = len(semester_level_preds)).to(device)\n",
    "\n",
    "domain_acc, class_acc, domain_loss, class_loss = oulad_helper.train_feat_transformer(\n",
    "                                    data=semester_feature_df, \n",
    "                                    predictors=semester_level_preds,\n",
    "                                    outcome_col='final_result_num',\n",
    "                                    sensitive_attr_col='gender_num',\n",
    "                                    model=model,\n",
    "                                    n_epochs=n_epochs,\n",
    "                                    l1_weight = l1_weight,\n",
    "                                    ortho_weight = ortho_weight)\n",
    "\n",
    "'''plot domain and label accuracy'''\n",
    "fig, axes = plt.subplots(nrows=1, ncols=2, figsize=(12,4))\n",
    "axes[0].plot(domain_acc, 'o-', label='domain accuracy')\n",
    "axes[0].plot(class_acc, 'd--', label='class accuracy')\n",
    "axes[0].set_xticks(range(n_epochs), minor=False)\n",
    "axes[0].set_xlabel('epoch')\n",
    "axes[0].legend()\n",
    "\n",
    "axes[1].plot(domain_loss, 'o-', label='domain loss')\n",
    "axes[1].plot(class_loss, 'd--', label='classification loss')\n",
    "axes[1].set_xticks(range(n_epochs))\n",
    "axes[1].set_xlabel('epoch')\n",
    "axes[1].legend()\n",
    "plt.title('l1: {}'.format(l1_weight))\n",
    "plt.show()\n",
    "\n",
    "'''plot spreads of parameters'''\n",
    "fig, axes = plt.subplots(2,5, figsize=(20, 8))\n",
    "i=0\n",
    "j=0\n",
    "for in_params in list(model.lt.parameters())[0]:\n",
    "    params = in_params.tolist()\n",
    "    sns.boxplot(x=params, color='orange', ax=axes[i][j])\n",
    "    sns.swarmplot(x=params, color='black',  size=3, ax=axes[i][j])\n",
    "    axes[i][j].set_xlim([-1, 1])\n",
    "    j+=1\n",
    "    if j==5:\n",
    "        j=0\n",
    "        i+=1\n",
    "plt.title('l1: {}'.format(l1_weight))\n",
    "plt.show()\n",
    "\n",
    "plt.figure(figsize=(20, 6))\n",
    "params = np.array(list(model.lt.parameters())[0].tolist())\n",
    "plt.boxplot(x=params, positions=range(1, len(semester_level_preds)+1), showmeans=True)\n",
    "plt.xticks(range(1, len(semester_level_preds)+1), rotation=90)\n",
    "plt.axhline(y=0, color='grey', alpha=.4)\n",
    "plt.title('l1:{}'.format(l1_weight))\n",
    "plt.show()"
   ]
  },
  {
   "cell_type": "code",
   "execution_count": null,
   "metadata": {},
   "outputs": [],
   "source": [
    "'''now extract linearly transformed features from the model that was trained above'''\n",
    "lt_dim = 10 #output dimension of the Linear Transformation layer\n",
    "ortho_transformd_feats = model.lt(torch.Tensor(semester_feature_df[semester_level_preds].values))\n",
    "orhto_transformed_feat_df =  pd.DataFrame(ortho_transformd_feats.detach().numpy(), \n",
    "                                    columns=trans_columns,\n",
    "                                    index =semester_feature_df.index)\n",
    "print(type(orhto_transformed_feat_df))\n",
    "orhto_transformed_feat_df.head(1)"
   ]
  },
  {
   "cell_type": "code",
   "execution_count": null,
   "metadata": {},
   "outputs": [],
   "source": [
    "tsne = TSNE(n_components=2, verbose=1, perplexity=40, n_iter=300)\n",
    "tsne_results = tsne.fit_transform(orhto_transformed_feat_df.values)\n",
    "orhto_transformed_feat_df['tsne-1d'] = tsne_results[:,0]\n",
    "orhto_transformed_feat_df['tsne-2d'] = tsne_results[:,1]"
   ]
  },
  {
   "cell_type": "code",
   "execution_count": null,
   "metadata": {},
   "outputs": [],
   "source": [
    "orhto_transformed_feat_df['gender_num']=semester_feature_df.gender_num\n",
    "orhto_transformed_feat_df['age']=semester_feature_df.age_num\n",
    "orhto_transformed_feat_df['studied_credits']=semester_feature_df.credits\n",
    "orhto_transformed_feat_df['previously_attempted']=semester_feature_df.previously_attempted\n",
    "orhto_transformed_feat_df['highest_education_num']=semester_feature_df.highest_education\n",
    "orhto_transformed_feat_df['final_result_num']=semester_feature_df.final_result_num\n",
    "\n",
    "orhto_transformed_feat_df.head(2)"
   ]
  },
  {
   "cell_type": "code",
   "execution_count": null,
   "metadata": {},
   "outputs": [],
   "source": [
    "for x in [10,100,1000]:\n",
    "    orhto_transformed_feat_df = pd.read_csv(join(data_root, 'orhto_transformed_feat_df_{}'.format(x)))\n",
    "    orhto_transformed_feat_df.set_index('row_id', inplace=True)\n",
    "    tsne = TSNE(n_components=2, verbose=1, perplexity=40, n_iter=300)\n",
    "    tsne_results = tsne.fit_transform(orhto_transformed_feat_df.values)\n",
    "    orhto_transformed_feat_df['tsne-1d'] = tsne_results[:,0]\n",
    "    orhto_transformed_feat_df['tsne-2d'] = tsne_results[:,1]\n",
    "    \n",
    "    orhto_transformed_feat_df['gender_num']=semester_feature_df.gender_num\n",
    "    orhto_transformed_feat_df['final_result_num']=semester_feature_df.final_result_num\n",
    "    plt.figure(figsize=(10,8))\n",
    "    sns.scatterplot(x=\"tsne-1d\", y=\"tsne-2d\", hue=\"final_result_num\", data=orhto_transformed_feat_df)\n",
    "    plt.show()\n",
    "    plot_helper_methods.plot_corr_matrix(\n",
    "        orhto_transformed_feat_df[trans_columns].corr())"
   ]
  },
  {
   "cell_type": "code",
   "execution_count": null,
   "metadata": {},
   "outputs": [],
   "source": [
    "plt.figure(figsize=(12,8))\n",
    "sns.scatterplot(x=\"tsne-1d\", y=\"tsne-2d\", hue=\"final_result_num\", data=orhto_transformed_feat_df)"
   ]
  },
  {
   "cell_type": "markdown",
   "metadata": {},
   "source": [
    "### Matching after transformation"
   ]
  },
  {
   "cell_type": "code",
   "execution_count": null,
   "metadata": {},
   "outputs": [],
   "source": [
    "from statsmodels.stats.proportion import proportions_ztest"
   ]
  },
  {
   "cell_type": "code",
   "execution_count": null,
   "metadata": {},
   "outputs": [],
   "source": [
    "matches = pd.read_csv(join(data_root,'trans-matches.csv'),sep=';')\n",
    "matches = matches.loc[:, ~matches.columns.str.contains('^Unnamed')]\n",
    "matches.head()"
   ]
  },
  {
   "cell_type": "code",
   "execution_count": null,
   "metadata": {},
   "outputs": [],
   "source": [
    "len(matches), len(set(matches.female)), len(set(matches.male))"
   ]
  },
  {
   "cell_type": "code",
   "execution_count": null,
   "metadata": {},
   "outputs": [],
   "source": [
    "'''test for original data'''\n",
    "factor_transformed['orig_passed'] = factor_transformed['final_result_num'].map({1:'passed', 0:'falied'}) #Encode the values\n",
    "factor_transformed['gender'] = factor_transformed['gender_num'].map({1:'female', 0:'male'}) #Encode the values\n",
    "pd.crosstab(factor_transformed.orig_passed, factor_transformed.gender).apply(lambda r:r/r.sum(),axis=0) #Contingency Table\n",
    "# contingency table\n",
    "contingency_table = pd.crosstab(index=factor_transformed['gender'],\n",
    "                                columns=factor_transformed['final_result_num'])\n",
    "# pd.crosstab(data.Survived,data.Sex).apply(lambda r:r/r.sum(),axis=0)\n",
    "contingency_table"
   ]
  },
  {
   "cell_type": "code",
   "execution_count": 47,
   "metadata": {},
   "outputs": [
    {
     "ename": "NameError",
     "evalue": "name 'contingency_table' is not defined",
     "output_type": "error",
     "traceback": [
      "\u001b[0;31m---------------------------------------------------------------------------\u001b[0m",
      "\u001b[0;31mNameError\u001b[0m                                 Traceback (most recent call last)",
      "\u001b[0;32m<ipython-input-47-8574822e7023>\u001b[0m in \u001b[0;36m<module>\u001b[0;34m\u001b[0m\n\u001b[0;32m----> 1\u001b[0;31m \u001b[0mcontingency_table\u001b[0m\u001b[0;34m.\u001b[0m\u001b[0mhead\u001b[0m\u001b[0;34m(\u001b[0m\u001b[0;34m)\u001b[0m\u001b[0;34m\u001b[0m\u001b[0;34m\u001b[0m\u001b[0m\n\u001b[0m",
      "\u001b[0;31mNameError\u001b[0m: name 'contingency_table' is not defined"
     ]
    }
   ],
   "source": [
    "contingency_table.head()"
   ]
  },
  {
   "cell_type": "code",
   "execution_count": null,
   "metadata": {},
   "outputs": [],
   "source": [
    "'''test for difference across gender before matching'''\n",
    "chi, p, dof, expected = stats.chi2_contingency(contingency_table, correction=False)\n",
    "chi, p"
   ]
  },
  {
   "cell_type": "code",
   "execution_count": null,
   "metadata": {},
   "outputs": [],
   "source": [
    "import statsmodels\n",
    "print(statsmodels.stats.contingency_tables.mcnemar(contingency_table.values, exact=True))"
   ]
  },
  {
   "cell_type": "code",
   "execution_count": null,
   "metadata": {},
   "outputs": [],
   "source": [
    "'''test for matched sample'''\n",
    "matched_df = factor_transformed.loc[list(set(matches.female))+list(set(matches.male))]\n",
    "# matches['']\n",
    "matched_contingency_table = pd.crosstab(index=matched_df['gender'],\n",
    "                                columns=matched_df['final_result_num'])\n",
    "# pd.crosstab(data.Survived,data.Sex).apply(lambda r:r/r.sum(),axis=0)\n",
    "matched_contingency_table"
   ]
  },
  {
   "cell_type": "code",
   "execution_count": null,
   "metadata": {},
   "outputs": [],
   "source": [
    "chi, p, dof, expected = stats.chi2_contingency(matched_contingency_table, correction=False)\n",
    "chi, p"
   ]
  },
  {
   "cell_type": "code",
   "execution_count": null,
   "metadata": {},
   "outputs": [],
   "source": [
    "print(statsmodels.stats.contingency_tables.mcnemar(matched_contingency_table.values, exact=True))"
   ]
  },
  {
   "cell_type": "code",
   "execution_count": null,
   "metadata": {},
   "outputs": [],
   "source": [
    "'''test for matched sample after removing duplicate matches'''\n",
    "no_dup = matches.set_index('male')\n",
    "no_dup=no_dup[~no_dup.index.duplicated(keep='first')]\n",
    "no_dup.reset_index(inplace=True)\n",
    "\n",
    "matched_df = factor_transformed.loc[list(set(no_dup.female))+list(set(no_dup.male))]\n",
    "# matches['']\n",
    "matched_contingency_table = pd.crosstab(index=matched_df['gender'],\n",
    "                                columns=matched_df['final_result_num'])\n",
    "# pd.crosstab(data.Survived,data.Sex).apply(lambda r:r/r.sum(),axis=0)\n",
    "matched_contingency_table"
   ]
  },
  {
   "cell_type": "code",
   "execution_count": null,
   "metadata": {},
   "outputs": [],
   "source": [
    "chi, p, dof, expected = stats.chi2_contingency(matched_contingency_table, correction=False)\n",
    "chi, p"
   ]
  },
  {
   "cell_type": "code",
   "execution_count": null,
   "metadata": {},
   "outputs": [],
   "source": [
    "desc = '''\n",
    "final_result_num ~ f1 + f2 + f3 + f4 + f5 +f6 +f7 +f8 +f9 + f10 + gender_num + age_num + studied_credits + highest_education_num \n",
    "final_result_num ~ gender_num\n",
    "f1~gender_num\n",
    "f2~gender_num\n",
    "f4~gender_num\n",
    "f5~gender_num\n",
    "f6~gender_num\n",
    "f7~gender_num\n",
    "f8~gender_num\n",
    "f9~gender_num\n",
    "f10~gender_num\n",
    "highest_education_num ~ gender_num\n",
    "\n",
    "gender_num ~~ highest_education_num\n",
    "studied_credits ~~ highest_education_num\n",
    "'''\n",
    "\n",
    "mod = Model(desc)\n",
    "res=mod.fit(matched_df)\n",
    "# mod.inspect(std_est=True)"
   ]
  },
  {
   "cell_type": "code",
   "execution_count": null,
   "metadata": {},
   "outputs": [],
   "source": [
    "g = semopy.semplot(mod, \"pd.png\")\n",
    "Image(filename ='pd.png')"
   ]
  },
  {
   "cell_type": "code",
   "execution_count": null,
   "metadata": {},
   "outputs": [],
   "source": [
    "'''this plot is after removing duplicates'''\n",
    "g = semopy.semplot(mod, \"pd.png\")\n",
    "Image(filename ='pd.png')"
   ]
  },
  {
   "cell_type": "code",
   "execution_count": null,
   "metadata": {},
   "outputs": [],
   "source": [
    "'''test on full dataset'''\n",
    "full_mod = Model(desc)\n",
    "res=full_mod.fit(transformed)\n",
    "# full_mod.inspect(std_est=True)"
   ]
  },
  {
   "cell_type": "code",
   "execution_count": null,
   "metadata": {},
   "outputs": [],
   "source": [
    "g = semopy.semplot(full_mod, \"pd.png\")\n",
    "Image(filename ='pd.png')"
   ]
  },
  {
   "cell_type": "code",
   "execution_count": null,
   "metadata": {},
   "outputs": [],
   "source": [
    "'''double output model'''\n",
    "visible = Input(shape=(len(semester_level_preds),))\n",
    "hidden0 = Dense(30, activation='relu')(visible)\n",
    "hidden1 = Dense(20, activation='relu')(hidden0)\n",
    "hidden2 = Dense(10, activation='relu')(hidden1)\n",
    "perf_output = Dense(1, activation='sigmoid', name='perf_classifier')(hidden2)\n",
    "gender_output = Dense(1, activation='sigmoid',  name='gender_classifier')(hidden2)\n",
    "semester_model = keras.models.Model(inputs=visible, outputs=[perf_output, gender_output])\n",
    "# summarize layers\n",
    "print(semester_model.summary())"
   ]
  },
  {
   "cell_type": "code",
   "execution_count": null,
   "metadata": {},
   "outputs": [],
   "source": [
    "semester_model.compile(loss='binary_crossentropy', optimizer='adam', metrics=['accuracy'])\n",
    "X_train, X_test, y_train, y_test = \\\n",
    "    train_test_split(semester_activities[semester_level_preds], semester_activities[['gender_num','final_result_num']], test_size=0.20, random_state=42)\n",
    "X_train.shape,X_test.shape"
   ]
  },
  {
   "cell_type": "markdown",
   "metadata": {},
   "source": [
    "#### Predict using factors"
   ]
  },
  {
   "cell_type": "code",
   "execution_count": null,
   "metadata": {},
   "outputs": [],
   "source": [
    "transformed = fa.transform(semester_activities[semester_level_preds].apply(stats.zscore))\n",
    "transformed = pd.DataFrame(transformed, columns=['f{}'.format(i) for i in range(n_factors)], index=semester_activities.index)\n",
    "transformed['gender_num']=semester_activities.gender_num\n",
    "transformed['final_result_num']=semester_activities.final_result_num"
   ]
  },
  {
   "cell_type": "code",
   "execution_count": null,
   "metadata": {},
   "outputs": [],
   "source": [
    "X_train, X_test, y_train, y_test = \\\n",
    "    train_test_split(transformed[['f{}'.format(i) for i in range(n_factors)]], transformed[['gender_num']], test_size=0.20, random_state=42)\n",
    "X_train.shape,X_test.shape"
   ]
  },
  {
   "cell_type": "code",
   "execution_count": null,
   "metadata": {},
   "outputs": [],
   "source": [
    "visible = Input(shape=(n_factors,))\n",
    "perf_output = Dense(1, activation='sigmoid', name='perf_classifier')(visible)\n",
    "gender_output = Dense(1, activation='sigmoid',  name='gender_classifier')(visible)\n",
    "factor_model = keras.models.Model(inputs=visible, outputs=[perf_output, gender_output])\n",
    "# summarize layers\n",
    "print(factor_model.summary())"
   ]
  },
  {
   "cell_type": "code",
   "execution_count": null,
   "metadata": {},
   "outputs": [],
   "source": [
    "factor_model.compile(loss='binary_crossentropy', optimizer='adam', metrics=['accuracy'])\n",
    "X_train, X_test, y_train, y_test = \\\n",
    "    train_test_split(transformed[['f{}'.format(i) for i in range(n_factors)]], transformed[['gender_num','final_result_num']], test_size=0.20, random_state=42)\n",
    "X_train.shape,X_test.shape"
   ]
  },
  {
   "cell_type": "code",
   "execution_count": null,
   "metadata": {},
   "outputs": [],
   "source": [
    "factor_model.fit(X_train, [y_train.final_result_num, y_train.gender_num], epochs=15, batch_size=10)"
   ]
  },
  {
   "cell_type": "code",
   "execution_count": null,
   "metadata": {},
   "outputs": [],
   "source": [
    "factor_model.evaluate(X_test, [y_test.final_result_num, y_test.gender_num])"
   ]
  },
  {
   "cell_type": "markdown",
   "metadata": {},
   "source": [
    "#### Matching on factors + demographics"
   ]
  },
  {
   "cell_type": "code",
   "execution_count": null,
   "metadata": {},
   "outputs": [],
   "source": [
    "transformed.head()"
   ]
  },
  {
   "cell_type": "code",
   "execution_count": null,
   "metadata": {},
   "outputs": [],
   "source": [
    "matches = pd.read_csv(join(data_root,'trans-matches.csv'),sep=';')\n",
    "\n",
    "matched_males = semester_activities.iloc[[x-1 for x in list(matches.male)]]\n",
    "matched_females = semester_activities.iloc[[x-1 for x in list(matches.female)]]\n",
    "print(len(matched_males),len(matched_females))\n",
    "print(len(set(matched_males.index)),len(set(matched_females.index)))\n",
    "\n",
    "statsmodels.stats.proportion.proportions_ztest([len(matched_females[matched_females.final_result_num==1]), len(matched_males[matched_males.final_result_num==1])], \n",
    "[len(matched_females),len(matched_females)])"
   ]
  },
  {
   "cell_type": "code",
   "execution_count": null,
   "metadata": {},
   "outputs": [],
   "source": []
  },
  {
   "cell_type": "code",
   "execution_count": null,
   "metadata": {},
   "outputs": [],
   "source": [
    "'''remove dups at the beginning'''\n",
    "matched_df = pd.DataFrame({'female_idx':matched_females.index, 'male_idx':matched_males.index, 'female_res':matched_females.final_result_num}).reset_index(drop=True).set_index('male_idx')\n",
    "# matched_df.set_index()\n",
    "matched_df['male_res']=matched_males.final_result_num\n",
    "print(matched_df.shape)\n",
    "matched_df=matched_df.reset_index().set_index('female_idx')\n",
    "matched_df = matched_df[~matched_df.index.duplicated(keep='first')]\n",
    "print(matched_df.shape)\n",
    "matched_df.head()"
   ]
  },
  {
   "cell_type": "markdown",
   "metadata": {},
   "source": [
    "#### Predict using factors for only matched samples"
   ]
  },
  {
   "cell_type": "code",
   "execution_count": null,
   "metadata": {},
   "outputs": [],
   "source": [
    "visible = Input(shape=(n_factors,))\n",
    "perf_output = Dense(1, activation='sigmoid', name='perf_classifier')(visible)\n",
    "gender_output = Dense(1, activation='sigmoid',  name='gender_classifier')(visible)\n",
    "matched_factor_model = keras.models.Model(inputs=visible, outputs=[perf_output, gender_output])\n",
    "# summarize layers\n",
    "print(matched_factor_model.summary())"
   ]
  },
  {
   "cell_type": "code",
   "execution_count": null,
   "metadata": {},
   "outputs": [],
   "source": [
    "matched_factor_model.compile(loss='binary_crossentropy', optimizer='adam', metrics=['accuracy'])\n",
    "X_train, X_test, y_train, y_test = \\\n",
    "    train_test_split(matched_transformed[['f{}'.format(i) for i in range(n_factors)]], matched_transformed[['gender_num','final_result_num']], test_size=0.20, random_state=42)\n",
    "X_train.shape,X_test.shape"
   ]
  },
  {
   "cell_type": "code",
   "execution_count": null,
   "metadata": {},
   "outputs": [],
   "source": [
    "matched_factor_model.fit(X_train, [y_train.final_result_num, y_train.gender_num], epochs=15, batch_size=10)"
   ]
  },
  {
   "cell_type": "code",
   "execution_count": null,
   "metadata": {},
   "outputs": [],
   "source": [
    "matched_factor_model.evaluate(X_test, [y_test.final_result_num, y_test.gender_num])"
   ]
  },
  {
   "cell_type": "code",
   "execution_count": null,
   "metadata": {},
   "outputs": [],
   "source": []
  },
  {
   "cell_type": "code",
   "execution_count": null,
   "metadata": {},
   "outputs": [],
   "source": []
  },
  {
   "cell_type": "code",
   "execution_count": null,
   "metadata": {},
   "outputs": [],
   "source": [
    "desc = '''\n",
    "final_result ~ f0+f1 + f2 + f3+ f4 + gender_num + age + studied_credits + highest_education_num\n",
    "f0~gender_num\n",
    "f1~gender_num\n",
    "f2~gender_num\n",
    "f3~gender_num\n",
    "f4~gender_num\n",
    "highest_education_num ~ gender_num\n",
    "\n",
    "gender_num ~~ highest_education_num\n",
    "studied_credits ~~ highest_education_num\n",
    "'''"
   ]
  },
  {
   "cell_type": "code",
   "execution_count": null,
   "metadata": {},
   "outputs": [],
   "source": [
    "'''test on full dataset'''\n",
    "full_mod = Model(desc)\n",
    "res=full_mod.fit(transformed)\n",
    "# full_mod.inspect(std_est=True)"
   ]
  },
  {
   "cell_type": "code",
   "execution_count": null,
   "metadata": {},
   "outputs": [],
   "source": [
    "g = semopy.semplot(full_mod, \"pd.png\")\n",
    "Image(filename ='pd.png')"
   ]
  },
  {
   "cell_type": "code",
   "execution_count": null,
   "metadata": {},
   "outputs": [],
   "source": [
    "mod = Model(desc)\n",
    "res=mod.fit(matched_transformed)\n",
    "g = semopy.semplot(mod, \"pd.png\")\n",
    "Image(filename ='pd.png')"
   ]
  },
  {
   "cell_type": "markdown",
   "metadata": {},
   "source": [
    "### Weekly interaction data"
   ]
  },
  {
   "cell_type": "code",
   "execution_count": null,
   "metadata": {},
   "outputs": [],
   "source": [
    "weekly_interactions = pd.read_csv(join(data_root, 'weekly_interactions.csv'))\n",
    "weekly_interactions.set_index('row_id', inplace=True)\n",
    "weekly_interactions.head()"
   ]
  },
  {
   "cell_type": "code",
   "execution_count": null,
   "metadata": {},
   "outputs": [],
   "source": [
    "weekly_preds = set(weekly_interactions.columns).difference(['final_result', 'final_result_num','gender_num','gender','blocks', 'id_student', 'id_module', 'id_presentation'])\n",
    "\n",
    "weekly_preds=weekly_preds.difference(set(semester_activities.columns))\n",
    "len(weekly_preds)"
   ]
  },
  {
   "cell_type": "code",
   "execution_count": null,
   "metadata": {},
   "outputs": [],
   "source": [
    "'''double output model'''\n",
    "visible = Input(shape=(len(weekly_preds),))\n",
    "hidden = Dense(100, activation='relu')(visible)\n",
    "# hidden = Dense(100, activation='relu')(hidden)\n",
    "hidden = Dense(50, activation='relu')(hidden)\n",
    "hidden = Dense(10, activation='relu')(hidden)\n",
    "perf_output = Dense(1, activation='sigmoid', name='perf_classifier')(hidden)\n",
    "gender_output = Dense(1, activation='sigmoid',  name='gender_classifier')(hidden)\n",
    "weekly_model = keras.models.Model(inputs=visible, outputs=[perf_output, gender_output])\n",
    "# summarize layers\n",
    "print(weekly_model.summary())"
   ]
  },
  {
   "cell_type": "code",
   "execution_count": null,
   "metadata": {},
   "outputs": [],
   "source": [
    "weekly_model.compile(loss='binary_crossentropy', optimizer='adam', metrics=['accuracy'])\n",
    "X_train, X_test, y_train, y_test = \\\n",
    "    train_test_split(weekly_interactions[weekly_preds], weekly_interactions[['gender_num','final_result_num']], test_size=0.20, random_state=42)\n",
    "X_train.shape,X_test.shape"
   ]
  },
  {
   "cell_type": "code",
   "execution_count": null,
   "metadata": {},
   "outputs": [],
   "source": [
    "weekly_model.fit(X_train, [y_train.final_result_num, y_train.gender_num], epochs=15, batch_size=10)"
   ]
  },
  {
   "cell_type": "code",
   "execution_count": null,
   "metadata": {},
   "outputs": [],
   "source": [
    "weekly_model.evaluate(X_test, [y_test.final_result_num, y_test.gender_num])"
   ]
  },
  {
   "cell_type": "code",
   "execution_count": null,
   "metadata": {},
   "outputs": [],
   "source": [
    "n_comp=20\n",
    "pca = PCA(n_components=n_comp).fit(\n",
    "    weekly_interactions[weekly_preds].apply(stats.zscore).values)\n",
    "plot_helper_methods.plot_scree(n_comp, pca)"
   ]
  },
  {
   "cell_type": "code",
   "execution_count": null,
   "metadata": {},
   "outputs": [],
   "source": [
    "from keras.engine import Layer\n",
    "\n",
    "def reverse_gradient(X, hp_lambda):\n",
    "    \"\"\"Flips the sign of the incoming gradient during training.\"\"\"\n",
    "    try:\n",
    "        reverse_gradient.num_calls += 1\n",
    "    except AttributeError:\n",
    "        reverse_gradient.num_calls = 1\n",
    "\n",
    "    grad_name = \"GradientReversal%d\" % reverse_gradient.num_calls\n",
    "\n",
    "    @ops.RegisterGradient(grad_name)\n",
    "    def _flip_gradients(grad):\n",
    "        return [tf.negative(grad) * hp_lambda]\n",
    "\n",
    "    g = K.get_session().graph\n",
    "    with g.gradient_override_map({'Identity': grad_name}):\n",
    "        y = tf.identity(X)\n",
    "\n",
    "    return y\n",
    "\n",
    "class GradientReversal(Layer):\n",
    "    \"\"\"Layer that flips the sign of gradient during training.\"\"\"\n",
    "\n",
    "    def __init__(self, hp_lambda, **kwargs):\n",
    "        super(GradientReversal, self).__init__(**kwargs)\n",
    "        self.supports_masking = True\n",
    "        self.hp_lambda = hp_lambda\n",
    "\n",
    "    @staticmethod\n",
    "    def get_output_shape_for(input_shape):\n",
    "        return input_shape\n",
    "\n",
    "    def build(self, input_shape):\n",
    "        self.trainable_weights = []\n",
    "\n",
    "    def call(self, x, mask=None):\n",
    "        return reverse_gradient(x, self.hp_lambda)\n",
    "\n",
    "    def get_config(self):\n",
    "        config = {}\n",
    "        base_config = super(GradientReversal, self).get_config()\n",
    "        return dict(list(base_config.items()) + list(config.items()))"
   ]
  },
  {
   "cell_type": "code",
   "execution_count": null,
   "metadata": {},
   "outputs": [],
   "source": []
  }
 ],
 "metadata": {
  "kernelspec": {
   "display_name": "py37-env",
   "language": "python",
   "name": "py37-env"
  },
  "language_info": {
   "codemirror_mode": {
    "name": "ipython",
    "version": 3
   },
   "file_extension": ".py",
   "mimetype": "text/x-python",
   "name": "python",
   "nbconvert_exporter": "python",
   "pygments_lexer": "ipython3",
   "version": "3.7.7"
  }
 },
 "nbformat": 4,
 "nbformat_minor": 4
}
